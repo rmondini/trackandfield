{
 "cells": [
  {
   "cell_type": "markdown",
   "metadata": {},
   "source": [
    "# We analyze the World Athletics (formerly known as International Association of Athletics Federations - IAAF) 100m and 200m all-time men and women lists # "
   ]
  },
  {
   "cell_type": "markdown",
   "metadata": {},
   "source": [
    "## Import libraries"
   ]
  },
  {
   "cell_type": "code",
   "execution_count": 1,
   "metadata": {},
   "outputs": [],
   "source": [
    "import numpy as np\n",
    "import pandas as pd\n",
    "import tensorflow as tf\n",
    "import matplotlib.pyplot as plt\n",
    "import seaborn as sns\n",
    "from datetime import datetime\n",
    "\n",
    "from sklearn.linear_model import LinearRegression\n",
    "from sklearn.model_selection import train_test_split\n",
    "from sklearn.preprocessing import StandardScaler\n",
    "from sklearn.metrics import r2_score"
   ]
  },
  {
   "cell_type": "markdown",
   "metadata": {},
   "source": [
    "## Scraping the data from the World Athletics website to build pandas DataFrames ##\n"
   ]
  },
  {
   "cell_type": "markdown",
   "metadata": {},
   "source": [
    "### I. Choose the number of pages to include"
   ]
  },
  {
   "cell_type": "code",
   "execution_count": 2,
   "metadata": {},
   "outputs": [],
   "source": [
    "# choose number of pages of results we want to include from the WA lists (for each gender)\n",
    "# 0<npage<=17 (max number of pages for men's 200m lists)\n",
    "npage=17"
   ]
  },
  {
   "cell_type": "markdown",
   "metadata": {},
   "source": [
    "### II. Scrape the data from the WA website  \n",
    "(the cell below takes a couple of minutes to evaluate since it's web-scraping all the necessary data)"
   ]
  },
  {
   "cell_type": "code",
   "execution_count": 3,
   "metadata": {},
   "outputs": [],
   "source": [
    "df_to_concat_100m_list = []\n",
    "df_to_concat_200m_list = []\n",
    "\n",
    "# men's 100m and 200m results\n",
    "# we manually checked that we need element 0 of the output of pd.read_html\n",
    "ip=1\n",
    "while ip<=npage:\n",
    "    one_page_read = pd.read_html('http://www.worldathletics.org/records/all-time-toplists/sprints/100-metres/outdoor/men/senior?page=' + str(ip))\n",
    "    two_page_read = pd.read_html('http://www.worldathletics.org/records/all-time-toplists/sprints/200-metres/outdoor/men/senior?page=' + str(ip))\n",
    "    tmp_df_one = one_page_read[0].copy()\n",
    "    tmp_df_one['Gender'] = 1\n",
    "    tmp_df_two = two_page_read[0].copy()\n",
    "    tmp_df_two['Gender'] = 1\n",
    "    df_to_concat_100m_list.append(tmp_df_one)\n",
    "    df_to_concat_200m_list.append(tmp_df_two)\n",
    "    ip+=1\n",
    "    \n",
    "# women's 100m and 200m results\n",
    "ip=1\n",
    "while ip<=npage:\n",
    "    one_page_read = pd.read_html('http://www.worldathletics.org/records/all-time-toplists/sprints/100-metres/outdoor/women/senior?page=' + str(ip))\n",
    "    two_page_read = pd.read_html('http://www.worldathletics.org/records/all-time-toplists/sprints/200-metres/outdoor/women/senior?page=' + str(ip))\n",
    "    tmp_df_one = one_page_read[0].copy()\n",
    "    tmp_df_one['Gender'] = 0\n",
    "    tmp_df_two = two_page_read[0].copy()\n",
    "    tmp_df_two['Gender'] = 0\n",
    "    df_to_concat_100m_list.append(tmp_df_one)\n",
    "    df_to_concat_200m_list.append(tmp_df_two)\n",
    "    ip+=1\n",
    "\n",
    "# 100m dataframe\n",
    "df1 = pd.concat(df_to_concat_100m_list, ignore_index=True) \n",
    "df1.rename(columns={'Mark':'100m'}, inplace=True)\n",
    "\n",
    "# 200m dataframe\n",
    "df2 = pd.concat(df_to_concat_200m_list, ignore_index=True)\n",
    "df2.rename(columns={'Mark':'200m'}, inplace=True)"
   ]
  },
  {
   "cell_type": "code",
   "execution_count": 4,
   "metadata": {},
   "outputs": [
    {
     "data": {
      "text/html": [
       "<div>\n",
       "<style scoped>\n",
       "    .dataframe tbody tr th:only-of-type {\n",
       "        vertical-align: middle;\n",
       "    }\n",
       "\n",
       "    .dataframe tbody tr th {\n",
       "        vertical-align: top;\n",
       "    }\n",
       "\n",
       "    .dataframe thead th {\n",
       "        text-align: right;\n",
       "    }\n",
       "</style>\n",
       "<table border=\"1\" class=\"dataframe\">\n",
       "  <thead>\n",
       "    <tr style=\"text-align: right;\">\n",
       "      <th></th>\n",
       "      <th>Rank</th>\n",
       "      <th>100m</th>\n",
       "      <th>WIND</th>\n",
       "      <th>Competitor</th>\n",
       "      <th>DOB</th>\n",
       "      <th>Nat</th>\n",
       "      <th>Pos</th>\n",
       "      <th>Unnamed: 7</th>\n",
       "      <th>Venue</th>\n",
       "      <th>Date</th>\n",
       "      <th>Results Score</th>\n",
       "      <th>Gender</th>\n",
       "    </tr>\n",
       "  </thead>\n",
       "  <tbody>\n",
       "    <tr>\n",
       "      <th>0</th>\n",
       "      <td>1</td>\n",
       "      <td>9.58</td>\n",
       "      <td>0.9</td>\n",
       "      <td>Usain BOLT</td>\n",
       "      <td>21 AUG 1986</td>\n",
       "      <td>JAM</td>\n",
       "      <td>1</td>\n",
       "      <td>NaN</td>\n",
       "      <td>Olympiastadion, Berlin (GER)</td>\n",
       "      <td>16 AUG 2009</td>\n",
       "      <td>1356</td>\n",
       "      <td>1</td>\n",
       "    </tr>\n",
       "    <tr>\n",
       "      <th>1</th>\n",
       "      <td>2</td>\n",
       "      <td>9.69</td>\n",
       "      <td>2.0</td>\n",
       "      <td>Tyson GAY</td>\n",
       "      <td>09 AUG 1982</td>\n",
       "      <td>USA</td>\n",
       "      <td>1</td>\n",
       "      <td>NaN</td>\n",
       "      <td>Shanghai (CHN)</td>\n",
       "      <td>20 SEP 2009</td>\n",
       "      <td>1316</td>\n",
       "      <td>1</td>\n",
       "    </tr>\n",
       "    <tr>\n",
       "      <th>2</th>\n",
       "      <td>2</td>\n",
       "      <td>9.69</td>\n",
       "      <td>-0.1</td>\n",
       "      <td>Yohan BLAKE</td>\n",
       "      <td>26 DEC 1989</td>\n",
       "      <td>JAM</td>\n",
       "      <td>1</td>\n",
       "      <td>NaN</td>\n",
       "      <td>Pontaise, Lausanne (SUI)</td>\n",
       "      <td>23 AUG 2012</td>\n",
       "      <td>1316</td>\n",
       "      <td>1</td>\n",
       "    </tr>\n",
       "    <tr>\n",
       "      <th>3</th>\n",
       "      <td>4</td>\n",
       "      <td>9.72</td>\n",
       "      <td>0.2</td>\n",
       "      <td>Asafa POWELL</td>\n",
       "      <td>23 NOV 1982</td>\n",
       "      <td>JAM</td>\n",
       "      <td>1f1</td>\n",
       "      <td>NaN</td>\n",
       "      <td>Pontaise, Lausanne (SUI)</td>\n",
       "      <td>02 SEP 2008</td>\n",
       "      <td>1305</td>\n",
       "      <td>1</td>\n",
       "    </tr>\n",
       "    <tr>\n",
       "      <th>4</th>\n",
       "      <td>5</td>\n",
       "      <td>9.74</td>\n",
       "      <td>0.9</td>\n",
       "      <td>Justin GATLIN</td>\n",
       "      <td>10 FEB 1982</td>\n",
       "      <td>USA</td>\n",
       "      <td>1</td>\n",
       "      <td>NaN</td>\n",
       "      <td>Hamad Bin Suhaim, Doha (QAT)</td>\n",
       "      <td>15 MAY 2015</td>\n",
       "      <td>1298</td>\n",
       "      <td>1</td>\n",
       "    </tr>\n",
       "  </tbody>\n",
       "</table>\n",
       "</div>"
      ],
      "text/plain": [
       "   Rank  100m  WIND     Competitor          DOB  Nat  Pos  Unnamed: 7  \\\n",
       "0     1  9.58   0.9     Usain BOLT  21 AUG 1986  JAM    1         NaN   \n",
       "1     2  9.69   2.0      Tyson GAY  09 AUG 1982  USA    1         NaN   \n",
       "2     2  9.69  -0.1    Yohan BLAKE  26 DEC 1989  JAM    1         NaN   \n",
       "3     4  9.72   0.2   Asafa POWELL  23 NOV 1982  JAM  1f1         NaN   \n",
       "4     5  9.74   0.9  Justin GATLIN  10 FEB 1982  USA    1         NaN   \n",
       "\n",
       "                          Venue         Date  Results Score  Gender  \n",
       "0  Olympiastadion, Berlin (GER)  16 AUG 2009           1356       1  \n",
       "1                Shanghai (CHN)  20 SEP 2009           1316       1  \n",
       "2      Pontaise, Lausanne (SUI)  23 AUG 2012           1316       1  \n",
       "3      Pontaise, Lausanne (SUI)  02 SEP 2008           1305       1  \n",
       "4  Hamad Bin Suhaim, Doha (QAT)  15 MAY 2015           1298       1  "
      ]
     },
     "execution_count": 4,
     "metadata": {},
     "output_type": "execute_result"
    }
   ],
   "source": [
    "df1.head()"
   ]
  },
  {
   "cell_type": "markdown",
   "metadata": {},
   "source": [
    "## Data pre-processing"
   ]
  },
  {
   "cell_type": "markdown",
   "metadata": {},
   "source": [
    "### I. Initial cleaning and checks on the DataFrames"
   ]
  },
  {
   "cell_type": "code",
   "execution_count": 5,
   "metadata": {},
   "outputs": [],
   "source": [
    "# drop empty column\n",
    "df1.drop('Unnamed: 7',axis=1, inplace=True)\n",
    "df2.drop('Unnamed: 7',axis=1, inplace=True)"
   ]
  },
  {
   "cell_type": "code",
   "execution_count": 6,
   "metadata": {},
   "outputs": [
    {
     "data": {
      "text/html": [
       "<div>\n",
       "<style scoped>\n",
       "    .dataframe tbody tr th:only-of-type {\n",
       "        vertical-align: middle;\n",
       "    }\n",
       "\n",
       "    .dataframe tbody tr th {\n",
       "        vertical-align: top;\n",
       "    }\n",
       "\n",
       "    .dataframe thead th {\n",
       "        text-align: right;\n",
       "    }\n",
       "</style>\n",
       "<table border=\"1\" class=\"dataframe\">\n",
       "  <thead>\n",
       "    <tr style=\"text-align: right;\">\n",
       "      <th></th>\n",
       "      <th>Rank</th>\n",
       "      <th>100m</th>\n",
       "      <th>WIND</th>\n",
       "      <th>Competitor</th>\n",
       "      <th>DOB</th>\n",
       "      <th>Nat</th>\n",
       "      <th>Pos</th>\n",
       "      <th>Venue</th>\n",
       "      <th>Date</th>\n",
       "      <th>Results Score</th>\n",
       "      <th>Gender</th>\n",
       "    </tr>\n",
       "  </thead>\n",
       "  <tbody>\n",
       "    <tr>\n",
       "      <th>0</th>\n",
       "      <td>1</td>\n",
       "      <td>9.58</td>\n",
       "      <td>0.9</td>\n",
       "      <td>Usain BOLT</td>\n",
       "      <td>21 AUG 1986</td>\n",
       "      <td>JAM</td>\n",
       "      <td>1</td>\n",
       "      <td>Olympiastadion, Berlin (GER)</td>\n",
       "      <td>16 AUG 2009</td>\n",
       "      <td>1356</td>\n",
       "      <td>1</td>\n",
       "    </tr>\n",
       "    <tr>\n",
       "      <th>1</th>\n",
       "      <td>2</td>\n",
       "      <td>9.69</td>\n",
       "      <td>2.0</td>\n",
       "      <td>Tyson GAY</td>\n",
       "      <td>09 AUG 1982</td>\n",
       "      <td>USA</td>\n",
       "      <td>1</td>\n",
       "      <td>Shanghai (CHN)</td>\n",
       "      <td>20 SEP 2009</td>\n",
       "      <td>1316</td>\n",
       "      <td>1</td>\n",
       "    </tr>\n",
       "    <tr>\n",
       "      <th>2</th>\n",
       "      <td>2</td>\n",
       "      <td>9.69</td>\n",
       "      <td>-0.1</td>\n",
       "      <td>Yohan BLAKE</td>\n",
       "      <td>26 DEC 1989</td>\n",
       "      <td>JAM</td>\n",
       "      <td>1</td>\n",
       "      <td>Pontaise, Lausanne (SUI)</td>\n",
       "      <td>23 AUG 2012</td>\n",
       "      <td>1316</td>\n",
       "      <td>1</td>\n",
       "    </tr>\n",
       "    <tr>\n",
       "      <th>3</th>\n",
       "      <td>4</td>\n",
       "      <td>9.72</td>\n",
       "      <td>0.2</td>\n",
       "      <td>Asafa POWELL</td>\n",
       "      <td>23 NOV 1982</td>\n",
       "      <td>JAM</td>\n",
       "      <td>1f1</td>\n",
       "      <td>Pontaise, Lausanne (SUI)</td>\n",
       "      <td>02 SEP 2008</td>\n",
       "      <td>1305</td>\n",
       "      <td>1</td>\n",
       "    </tr>\n",
       "    <tr>\n",
       "      <th>4</th>\n",
       "      <td>5</td>\n",
       "      <td>9.74</td>\n",
       "      <td>0.9</td>\n",
       "      <td>Justin GATLIN</td>\n",
       "      <td>10 FEB 1982</td>\n",
       "      <td>USA</td>\n",
       "      <td>1</td>\n",
       "      <td>Hamad Bin Suhaim, Doha (QAT)</td>\n",
       "      <td>15 MAY 2015</td>\n",
       "      <td>1298</td>\n",
       "      <td>1</td>\n",
       "    </tr>\n",
       "  </tbody>\n",
       "</table>\n",
       "</div>"
      ],
      "text/plain": [
       "   Rank  100m  WIND     Competitor          DOB  Nat  Pos  \\\n",
       "0     1  9.58   0.9     Usain BOLT  21 AUG 1986  JAM    1   \n",
       "1     2  9.69   2.0      Tyson GAY  09 AUG 1982  USA    1   \n",
       "2     2  9.69  -0.1    Yohan BLAKE  26 DEC 1989  JAM    1   \n",
       "3     4  9.72   0.2   Asafa POWELL  23 NOV 1982  JAM  1f1   \n",
       "4     5  9.74   0.9  Justin GATLIN  10 FEB 1982  USA    1   \n",
       "\n",
       "                          Venue         Date  Results Score  Gender  \n",
       "0  Olympiastadion, Berlin (GER)  16 AUG 2009           1356       1  \n",
       "1                Shanghai (CHN)  20 SEP 2009           1316       1  \n",
       "2      Pontaise, Lausanne (SUI)  23 AUG 2012           1316       1  \n",
       "3      Pontaise, Lausanne (SUI)  02 SEP 2008           1305       1  \n",
       "4  Hamad Bin Suhaim, Doha (QAT)  15 MAY 2015           1298       1  "
      ]
     },
     "execution_count": 6,
     "metadata": {},
     "output_type": "execute_result"
    }
   ],
   "source": [
    "df1.head()"
   ]
  },
  {
   "cell_type": "code",
   "execution_count": 7,
   "metadata": {
    "scrolled": true
   },
   "outputs": [
    {
     "name": "stdout",
     "output_type": "stream",
     "text": [
      "<class 'pandas.core.frame.DataFrame'>\n",
      "RangeIndex: 3400 entries, 0 to 3399\n",
      "Data columns (total 11 columns):\n",
      "Rank             3400 non-null int64\n",
      "100m             3400 non-null float64\n",
      "WIND             3241 non-null float64\n",
      "Competitor       3400 non-null object\n",
      "DOB              3331 non-null object\n",
      "Nat              3400 non-null object\n",
      "Pos              3389 non-null object\n",
      "Venue            3400 non-null object\n",
      "Date             3400 non-null object\n",
      "Results Score    3400 non-null int64\n",
      "Gender           3400 non-null int64\n",
      "dtypes: float64(2), int64(3), object(6)\n",
      "memory usage: 292.3+ KB\n"
     ]
    }
   ],
   "source": [
    "df1.info()"
   ]
  },
  {
   "cell_type": "markdown",
   "metadata": {},
   "source": [
    "We see that pandas correctly casted Rank as int64, Mark and WIND as float64, Results Score as int64. There are missing values in the WIND, DOB and Pos columns but this is to be expected. We can check what specific rows those missing values correspond to by running   \n",
    "\n",
    "*df1[df1['Pos'].isnull()]*   \n",
    "\n",
    "and so on."
   ]
  },
  {
   "cell_type": "markdown",
   "metadata": {},
   "source": [
    "### II. Create 'Age at PB' column on 100m DataFrame"
   ]
  },
  {
   "cell_type": "code",
   "execution_count": 8,
   "metadata": {},
   "outputs": [],
   "source": [
    "df1_wa = df1.copy()\n",
    "\n",
    "df1_wa['Age at PB'] = pd.to_datetime(df1_wa['Date'])-pd.to_datetime(df1_wa['DOB'])\n",
    "df1_wa['Age at PB'] = df1_wa['Age at PB'].dt.days\n",
    "\n",
    "# converting from age in days to age in years\n",
    "df1_wa['Age at PB'] = df1_wa['Age at PB'].apply(lambda ndays: float(ndays/365.25))"
   ]
  },
  {
   "cell_type": "markdown",
   "metadata": {},
   "source": [
    "### III. Check for outliers"
   ]
  },
  {
   "cell_type": "code",
   "execution_count": 9,
   "metadata": {
    "scrolled": true
   },
   "outputs": [
    {
     "data": {
      "text/html": [
       "<div>\n",
       "<style scoped>\n",
       "    .dataframe tbody tr th:only-of-type {\n",
       "        vertical-align: middle;\n",
       "    }\n",
       "\n",
       "    .dataframe tbody tr th {\n",
       "        vertical-align: top;\n",
       "    }\n",
       "\n",
       "    .dataframe thead th {\n",
       "        text-align: right;\n",
       "    }\n",
       "</style>\n",
       "<table border=\"1\" class=\"dataframe\">\n",
       "  <thead>\n",
       "    <tr style=\"text-align: right;\">\n",
       "      <th></th>\n",
       "      <th>Rank</th>\n",
       "      <th>100m</th>\n",
       "      <th>WIND</th>\n",
       "      <th>Results Score</th>\n",
       "      <th>Gender</th>\n",
       "      <th>Age at PB</th>\n",
       "    </tr>\n",
       "  </thead>\n",
       "  <tbody>\n",
       "    <tr>\n",
       "      <th>count</th>\n",
       "      <td>3400.000000</td>\n",
       "      <td>3400.000000</td>\n",
       "      <td>3241.000000</td>\n",
       "      <td>3400.000000</td>\n",
       "      <td>3400.000000</td>\n",
       "      <td>3331.000000</td>\n",
       "    </tr>\n",
       "    <tr>\n",
       "      <th>mean</th>\n",
       "      <td>825.063529</td>\n",
       "      <td>10.729409</td>\n",
       "      <td>1.013206</td>\n",
       "      <td>1143.632059</td>\n",
       "      <td>0.500000</td>\n",
       "      <td>23.461422</td>\n",
       "    </tr>\n",
       "    <tr>\n",
       "      <th>std</th>\n",
       "      <td>478.829199</td>\n",
       "      <td>0.577220</td>\n",
       "      <td>0.788814</td>\n",
       "      <td>36.088238</td>\n",
       "      <td>0.500074</td>\n",
       "      <td>3.318536</td>\n",
       "    </tr>\n",
       "    <tr>\n",
       "      <th>min</th>\n",
       "      <td>1.000000</td>\n",
       "      <td>9.580000</td>\n",
       "      <td>-3.600000</td>\n",
       "      <td>1095.000000</td>\n",
       "      <td>0.000000</td>\n",
       "      <td>14.527036</td>\n",
       "    </tr>\n",
       "    <tr>\n",
       "      <th>25%</th>\n",
       "      <td>413.000000</td>\n",
       "      <td>10.200000</td>\n",
       "      <td>0.500000</td>\n",
       "      <td>1116.000000</td>\n",
       "      <td>0.000000</td>\n",
       "      <td>21.223819</td>\n",
       "    </tr>\n",
       "    <tr>\n",
       "      <th>50%</th>\n",
       "      <td>817.000000</td>\n",
       "      <td>10.390000</td>\n",
       "      <td>1.200000</td>\n",
       "      <td>1135.000000</td>\n",
       "      <td>0.500000</td>\n",
       "      <td>22.986995</td>\n",
       "    </tr>\n",
       "    <tr>\n",
       "      <th>75%</th>\n",
       "      <td>1248.000000</td>\n",
       "      <td>11.330000</td>\n",
       "      <td>1.700000</td>\n",
       "      <td>1163.000000</td>\n",
       "      <td>1.000000</td>\n",
       "      <td>25.412731</td>\n",
       "    </tr>\n",
       "    <tr>\n",
       "      <th>max</th>\n",
       "      <td>1663.000000</td>\n",
       "      <td>11.490000</td>\n",
       "      <td>2.000000</td>\n",
       "      <td>1356.000000</td>\n",
       "      <td>1.000000</td>\n",
       "      <td>40.325804</td>\n",
       "    </tr>\n",
       "  </tbody>\n",
       "</table>\n",
       "</div>"
      ],
      "text/plain": [
       "              Rank         100m         WIND  Results Score       Gender  \\\n",
       "count  3400.000000  3400.000000  3241.000000    3400.000000  3400.000000   \n",
       "mean    825.063529    10.729409     1.013206    1143.632059     0.500000   \n",
       "std     478.829199     0.577220     0.788814      36.088238     0.500074   \n",
       "min       1.000000     9.580000    -3.600000    1095.000000     0.000000   \n",
       "25%     413.000000    10.200000     0.500000    1116.000000     0.000000   \n",
       "50%     817.000000    10.390000     1.200000    1135.000000     0.500000   \n",
       "75%    1248.000000    11.330000     1.700000    1163.000000     1.000000   \n",
       "max    1663.000000    11.490000     2.000000    1356.000000     1.000000   \n",
       "\n",
       "         Age at PB  \n",
       "count  3331.000000  \n",
       "mean     23.461422  \n",
       "std       3.318536  \n",
       "min      14.527036  \n",
       "25%      21.223819  \n",
       "50%      22.986995  \n",
       "75%      25.412731  \n",
       "max      40.325804  "
      ]
     },
     "execution_count": 9,
     "metadata": {},
     "output_type": "execute_result"
    }
   ],
   "source": [
    "df1_wa.describe()"
   ]
  },
  {
   "cell_type": "markdown",
   "metadata": {},
   "source": [
    "We do not observe any outliers. The max wind is +2.0 which makes sense since for higher values the performance would be considered wind-aided and would not appear in these all-time lists. There is no lower bound for wind. The 'Age at PB' values also look reasonable."
   ]
  },
  {
   "cell_type": "markdown",
   "metadata": {},
   "source": [
    "### IV. Create a version of the 'Nat' column as a dummy variable: USA, JAM, or OTH"
   ]
  },
  {
   "cell_type": "markdown",
   "metadata": {},
   "source": [
    "Later on we will use the nationality column ('Nat') as one of the features in the regression so we need to convert it from a categorical feature to a dummy variable. To reduce the number of variables, we choose the only possible values to be 'USA', 'JAM', or 'OTH' (meaning all the remaining nationalities). In addition, we will drop the OTH category to avoid multi-collinearity. This means that the baseline category for the 'Nat' feature is 'not being American nor Jamaican', which follows common sense and allows us to evaluate the impact of being either American or Jamaican in our regression. We make these decisions based on our pre-knowledge in the field of track and field."
   ]
  },
  {
   "cell_type": "code",
   "execution_count": 10,
   "metadata": {},
   "outputs": [],
   "source": [
    "# function to convert Nat to USA, JAM, or OTH\n",
    "def nat_conv(nat):\n",
    "    if (nat != 'USA') and (nat != 'JAM'):\n",
    "        return 'OTH'\n",
    "    else:\n",
    "        return nat"
   ]
  },
  {
   "cell_type": "code",
   "execution_count": 11,
   "metadata": {},
   "outputs": [],
   "source": [
    "# create dummy variable and drop OTH column\n",
    "df1_wan2 = df1_wa.copy()\n",
    "df1_wan2['Nat2'] = df1_wan2['Nat'].apply(nat_conv)\n",
    "nat2_dummies = pd.get_dummies(df1_wan2['Nat2']).drop('OTH',axis=1)\n",
    "\n",
    "df1_wan2 = pd.concat([df1_wan2.drop('Nat2',axis=1),nat2_dummies],axis=1)"
   ]
  },
  {
   "cell_type": "code",
   "execution_count": 12,
   "metadata": {},
   "outputs": [
    {
     "data": {
      "text/html": [
       "<div>\n",
       "<style scoped>\n",
       "    .dataframe tbody tr th:only-of-type {\n",
       "        vertical-align: middle;\n",
       "    }\n",
       "\n",
       "    .dataframe tbody tr th {\n",
       "        vertical-align: top;\n",
       "    }\n",
       "\n",
       "    .dataframe thead th {\n",
       "        text-align: right;\n",
       "    }\n",
       "</style>\n",
       "<table border=\"1\" class=\"dataframe\">\n",
       "  <thead>\n",
       "    <tr style=\"text-align: right;\">\n",
       "      <th></th>\n",
       "      <th>Rank</th>\n",
       "      <th>100m</th>\n",
       "      <th>WIND</th>\n",
       "      <th>Competitor</th>\n",
       "      <th>DOB</th>\n",
       "      <th>Nat</th>\n",
       "      <th>Pos</th>\n",
       "      <th>Venue</th>\n",
       "      <th>Date</th>\n",
       "      <th>Results Score</th>\n",
       "      <th>Gender</th>\n",
       "      <th>Age at PB</th>\n",
       "      <th>JAM</th>\n",
       "      <th>USA</th>\n",
       "    </tr>\n",
       "  </thead>\n",
       "  <tbody>\n",
       "    <tr>\n",
       "      <th>0</th>\n",
       "      <td>1</td>\n",
       "      <td>9.58</td>\n",
       "      <td>0.9</td>\n",
       "      <td>Usain BOLT</td>\n",
       "      <td>21 AUG 1986</td>\n",
       "      <td>JAM</td>\n",
       "      <td>1</td>\n",
       "      <td>Olympiastadion, Berlin (GER)</td>\n",
       "      <td>16 AUG 2009</td>\n",
       "      <td>1356</td>\n",
       "      <td>1</td>\n",
       "      <td>22.986995</td>\n",
       "      <td>1</td>\n",
       "      <td>0</td>\n",
       "    </tr>\n",
       "    <tr>\n",
       "      <th>1</th>\n",
       "      <td>2</td>\n",
       "      <td>9.69</td>\n",
       "      <td>2.0</td>\n",
       "      <td>Tyson GAY</td>\n",
       "      <td>09 AUG 1982</td>\n",
       "      <td>USA</td>\n",
       "      <td>1</td>\n",
       "      <td>Shanghai (CHN)</td>\n",
       "      <td>20 SEP 2009</td>\n",
       "      <td>1316</td>\n",
       "      <td>1</td>\n",
       "      <td>27.115674</td>\n",
       "      <td>0</td>\n",
       "      <td>1</td>\n",
       "    </tr>\n",
       "    <tr>\n",
       "      <th>2</th>\n",
       "      <td>2</td>\n",
       "      <td>9.69</td>\n",
       "      <td>-0.1</td>\n",
       "      <td>Yohan BLAKE</td>\n",
       "      <td>26 DEC 1989</td>\n",
       "      <td>JAM</td>\n",
       "      <td>1</td>\n",
       "      <td>Pontaise, Lausanne (SUI)</td>\n",
       "      <td>23 AUG 2012</td>\n",
       "      <td>1316</td>\n",
       "      <td>1</td>\n",
       "      <td>22.658453</td>\n",
       "      <td>1</td>\n",
       "      <td>0</td>\n",
       "    </tr>\n",
       "    <tr>\n",
       "      <th>3</th>\n",
       "      <td>4</td>\n",
       "      <td>9.72</td>\n",
       "      <td>0.2</td>\n",
       "      <td>Asafa POWELL</td>\n",
       "      <td>23 NOV 1982</td>\n",
       "      <td>JAM</td>\n",
       "      <td>1f1</td>\n",
       "      <td>Pontaise, Lausanne (SUI)</td>\n",
       "      <td>02 SEP 2008</td>\n",
       "      <td>1305</td>\n",
       "      <td>1</td>\n",
       "      <td>25.776865</td>\n",
       "      <td>1</td>\n",
       "      <td>0</td>\n",
       "    </tr>\n",
       "    <tr>\n",
       "      <th>4</th>\n",
       "      <td>5</td>\n",
       "      <td>9.74</td>\n",
       "      <td>0.9</td>\n",
       "      <td>Justin GATLIN</td>\n",
       "      <td>10 FEB 1982</td>\n",
       "      <td>USA</td>\n",
       "      <td>1</td>\n",
       "      <td>Hamad Bin Suhaim, Doha (QAT)</td>\n",
       "      <td>15 MAY 2015</td>\n",
       "      <td>1298</td>\n",
       "      <td>1</td>\n",
       "      <td>33.256674</td>\n",
       "      <td>0</td>\n",
       "      <td>1</td>\n",
       "    </tr>\n",
       "    <tr>\n",
       "      <th>5</th>\n",
       "      <td>6</td>\n",
       "      <td>9.76</td>\n",
       "      <td>0.6</td>\n",
       "      <td>Christian COLEMAN</td>\n",
       "      <td>06 MAR 1996</td>\n",
       "      <td>USA</td>\n",
       "      <td>1f</td>\n",
       "      <td>Khalifa International Stadium, Doha (QAT)</td>\n",
       "      <td>28 SEP 2019</td>\n",
       "      <td>1291</td>\n",
       "      <td>1</td>\n",
       "      <td>23.561944</td>\n",
       "      <td>0</td>\n",
       "      <td>1</td>\n",
       "    </tr>\n",
       "    <tr>\n",
       "      <th>6</th>\n",
       "      <td>7</td>\n",
       "      <td>9.78</td>\n",
       "      <td>0.9</td>\n",
       "      <td>Nesta CARTER</td>\n",
       "      <td>10 NOV 1985</td>\n",
       "      <td>JAM</td>\n",
       "      <td>1</td>\n",
       "      <td>Guidobaldi, Rieti (ITA)</td>\n",
       "      <td>29 AUG 2010</td>\n",
       "      <td>1283</td>\n",
       "      <td>1</td>\n",
       "      <td>24.799452</td>\n",
       "      <td>1</td>\n",
       "      <td>0</td>\n",
       "    </tr>\n",
       "    <tr>\n",
       "      <th>7</th>\n",
       "      <td>8</td>\n",
       "      <td>9.79</td>\n",
       "      <td>0.1</td>\n",
       "      <td>Maurice GREENE</td>\n",
       "      <td>23 JUL 1974</td>\n",
       "      <td>USA</td>\n",
       "      <td>1f3</td>\n",
       "      <td>Athina (GRE)</td>\n",
       "      <td>16 JUN 1999</td>\n",
       "      <td>1280</td>\n",
       "      <td>1</td>\n",
       "      <td>24.898015</td>\n",
       "      <td>0</td>\n",
       "      <td>1</td>\n",
       "    </tr>\n",
       "    <tr>\n",
       "      <th>8</th>\n",
       "      <td>9</td>\n",
       "      <td>9.80</td>\n",
       "      <td>1.3</td>\n",
       "      <td>Steve MULLINGS</td>\n",
       "      <td>29 NOV 1982</td>\n",
       "      <td>JAM</td>\n",
       "      <td>1</td>\n",
       "      <td>Hayward Field, Eugene, OR (USA)</td>\n",
       "      <td>04 JUN 2011</td>\n",
       "      <td>1276</td>\n",
       "      <td>1</td>\n",
       "      <td>28.511978</td>\n",
       "      <td>1</td>\n",
       "      <td>0</td>\n",
       "    </tr>\n",
       "    <tr>\n",
       "      <th>9</th>\n",
       "      <td>10</td>\n",
       "      <td>9.82</td>\n",
       "      <td>1.7</td>\n",
       "      <td>Richard THOMPSON</td>\n",
       "      <td>07 JUN 1985</td>\n",
       "      <td>TTO</td>\n",
       "      <td>1f2</td>\n",
       "      <td>Port-of-Spain (TTO)</td>\n",
       "      <td>21 JUN 2014</td>\n",
       "      <td>1269</td>\n",
       "      <td>1</td>\n",
       "      <td>29.037645</td>\n",
       "      <td>0</td>\n",
       "      <td>0</td>\n",
       "    </tr>\n",
       "  </tbody>\n",
       "</table>\n",
       "</div>"
      ],
      "text/plain": [
       "   Rank  100m  WIND         Competitor          DOB  Nat  Pos  \\\n",
       "0     1  9.58   0.9         Usain BOLT  21 AUG 1986  JAM    1   \n",
       "1     2  9.69   2.0          Tyson GAY  09 AUG 1982  USA    1   \n",
       "2     2  9.69  -0.1        Yohan BLAKE  26 DEC 1989  JAM    1   \n",
       "3     4  9.72   0.2       Asafa POWELL  23 NOV 1982  JAM  1f1   \n",
       "4     5  9.74   0.9      Justin GATLIN  10 FEB 1982  USA    1   \n",
       "5     6  9.76   0.6  Christian COLEMAN  06 MAR 1996  USA   1f   \n",
       "6     7  9.78   0.9       Nesta CARTER  10 NOV 1985  JAM    1   \n",
       "7     8  9.79   0.1     Maurice GREENE  23 JUL 1974  USA  1f3   \n",
       "8     9  9.80   1.3     Steve MULLINGS  29 NOV 1982  JAM    1   \n",
       "9    10  9.82   1.7   Richard THOMPSON  07 JUN 1985  TTO  1f2   \n",
       "\n",
       "                                       Venue         Date  Results Score  \\\n",
       "0               Olympiastadion, Berlin (GER)  16 AUG 2009           1356   \n",
       "1                             Shanghai (CHN)  20 SEP 2009           1316   \n",
       "2                   Pontaise, Lausanne (SUI)  23 AUG 2012           1316   \n",
       "3                   Pontaise, Lausanne (SUI)  02 SEP 2008           1305   \n",
       "4               Hamad Bin Suhaim, Doha (QAT)  15 MAY 2015           1298   \n",
       "5  Khalifa International Stadium, Doha (QAT)  28 SEP 2019           1291   \n",
       "6                    Guidobaldi, Rieti (ITA)  29 AUG 2010           1283   \n",
       "7                               Athina (GRE)  16 JUN 1999           1280   \n",
       "8            Hayward Field, Eugene, OR (USA)  04 JUN 2011           1276   \n",
       "9                        Port-of-Spain (TTO)  21 JUN 2014           1269   \n",
       "\n",
       "   Gender  Age at PB  JAM  USA  \n",
       "0       1  22.986995    1    0  \n",
       "1       1  27.115674    0    1  \n",
       "2       1  22.658453    1    0  \n",
       "3       1  25.776865    1    0  \n",
       "4       1  33.256674    0    1  \n",
       "5       1  23.561944    0    1  \n",
       "6       1  24.799452    1    0  \n",
       "7       1  24.898015    0    1  \n",
       "8       1  28.511978    1    0  \n",
       "9       1  29.037645    0    0  "
      ]
     },
     "execution_count": 12,
     "metadata": {},
     "output_type": "execute_result"
    }
   ],
   "source": [
    "df1_wan2.head(10)"
   ]
  },
  {
   "cell_type": "code",
   "execution_count": 13,
   "metadata": {},
   "outputs": [],
   "source": [
    "df1_preprocessed = df1_wan2.copy()"
   ]
  },
  {
   "cell_type": "markdown",
   "metadata": {},
   "source": [
    "## Exploratory data analysis on the 100m dataframe"
   ]
  },
  {
   "cell_type": "markdown",
   "metadata": {},
   "source": [
    "### I. Nationalities with most all-timers"
   ]
  },
  {
   "cell_type": "code",
   "execution_count": 14,
   "metadata": {},
   "outputs": [
    {
     "data": {
      "image/png": "[encoded data removed]",
      "text/plain": [
       "<Figure size 648x648 with 1 Axes>"
      ]
     },
     "metadata": {},
     "output_type": "display_data"
    }
   ],
   "source": [
    "# create ranking\n",
    "df1natcount=df1_preprocessed['Nat'].value_counts()\n",
    "df1natcount_above=df1natcount[df1natcount>=30]\n",
    "df1natcount_below=pd.Series([len(df1.index)-df1natcount_above.sum()],index=['Other'])\n",
    "df1natcount_final=df1natcount_above.append(df1natcount_below)\n",
    "\n",
    "# plot\n",
    "plt.figure(figsize=(9,9))\n",
    "df1natcount_final.plot(kind='pie', autopct='%1.1f%%', pctdistance=0.85, labeldistance=1.05, startangle=90, shadow=False, legend = False, fontsize=10)\n",
    "\n",
    "plt.axis('off')\n",
    "plt.show()"
   ]
  },
  {
   "cell_type": "markdown",
   "metadata": {},
   "source": [
    "### II. Distribution of Age at PB"
   ]
  },
  {
   "cell_type": "code",
   "execution_count": 15,
   "metadata": {},
   "outputs": [
    {
     "data": {
      "image/png": "[encoded data removed]",
      "text/plain": [
       "<Figure size 504x360 with 1 Axes>"
      ]
     },
     "metadata": {
      "needs_background": "light"
     },
     "output_type": "display_data"
    }
   ],
   "source": [
    "# exclude NaNs by requiring Age>0\n",
    "df1_ages = df1_preprocessed[df1_preprocessed['Age at PB']>0]['Age at PB']\n",
    "\n",
    "plt.figure(figsize=(7,5))\n",
    "plt.hist(df1_ages, bins=25)\n",
    "plt.title('Average age = %.1f' % df1_ages.mean(), size=12)\n",
    "plt.xlabel('Age at PB (years)', size=12)\n",
    "plt.ylabel('# of athletes', size=12)\n",
    "plt.show()"
   ]
  },
  {
   "cell_type": "code",
   "execution_count": 16,
   "metadata": {},
   "outputs": [
    {
     "data": {
      "text/plain": [
       "<seaborn.axisgrid.FacetGrid at 0x7f04983d7898>"
      ]
     },
     "execution_count": 16,
     "metadata": {},
     "output_type": "execute_result"
    },
    {
     "data": {
      "image/png": "[encoded data removed]",
      "text/plain": [
       "<Figure size 260.875x216 with 1 Axes>"
      ]
     },
     "metadata": {
      "needs_background": "light"
     },
     "output_type": "display_data"
    }
   ],
   "source": [
    "g = sns.FacetGrid(data=df1_preprocessed[df1_preprocessed['Age at PB']>0],hue='Gender')\n",
    "g.map(plt.hist,'Age at PB',bins=20)\n",
    "g.add_legend()"
   ]
  },
  {
   "cell_type": "markdown",
   "metadata": {},
   "source": [
    "We observe that the two histograms are essentially identical."
   ]
  },
  {
   "cell_type": "markdown",
   "metadata": {},
   "source": [
    "### III. Youngest and oldest in the all-time lists ###"
   ]
  },
  {
   "cell_type": "code",
   "execution_count": 17,
   "metadata": {},
   "outputs": [
    {
     "data": {
      "text/html": [
       "<div>\n",
       "<style scoped>\n",
       "    .dataframe tbody tr th:only-of-type {\n",
       "        vertical-align: middle;\n",
       "    }\n",
       "\n",
       "    .dataframe tbody tr th {\n",
       "        vertical-align: top;\n",
       "    }\n",
       "\n",
       "    .dataframe thead th {\n",
       "        text-align: right;\n",
       "    }\n",
       "</style>\n",
       "<table border=\"1\" class=\"dataframe\">\n",
       "  <thead>\n",
       "    <tr style=\"text-align: right;\">\n",
       "      <th></th>\n",
       "      <th>Rank</th>\n",
       "      <th>100m</th>\n",
       "      <th>WIND</th>\n",
       "      <th>Competitor</th>\n",
       "      <th>DOB</th>\n",
       "      <th>Nat</th>\n",
       "      <th>Pos</th>\n",
       "      <th>Venue</th>\n",
       "      <th>Date</th>\n",
       "      <th>Results Score</th>\n",
       "      <th>Gender</th>\n",
       "      <th>Age at PB</th>\n",
       "      <th>JAM</th>\n",
       "      <th>USA</th>\n",
       "    </tr>\n",
       "  </thead>\n",
       "  <tbody>\n",
       "    <tr>\n",
       "      <th>2765</th>\n",
       "      <td>1031</td>\n",
       "      <td>11.37</td>\n",
       "      <td>1.7</td>\n",
       "      <td>Tia CLAYTON</td>\n",
       "      <td>17 AUG 2004</td>\n",
       "      <td>JAM</td>\n",
       "      <td>1</td>\n",
       "      <td>Spanish Town (JAM)</td>\n",
       "      <td>26 FEB 2019</td>\n",
       "      <td>1120</td>\n",
       "      <td>0</td>\n",
       "      <td>14.527036</td>\n",
       "      <td>1</td>\n",
       "      <td>0</td>\n",
       "    </tr>\n",
       "  </tbody>\n",
       "</table>\n",
       "</div>"
      ],
      "text/plain": [
       "      Rank   100m  WIND   Competitor          DOB  Nat Pos  \\\n",
       "2765  1031  11.37   1.7  Tia CLAYTON  17 AUG 2004  JAM   1   \n",
       "\n",
       "                   Venue         Date  Results Score  Gender  Age at PB  JAM  \\\n",
       "2765  Spanish Town (JAM)  26 FEB 2019           1120       0  14.527036    1   \n",
       "\n",
       "      USA  \n",
       "2765    0  "
      ]
     },
     "execution_count": 17,
     "metadata": {},
     "output_type": "execute_result"
    }
   ],
   "source": [
    "df1_preprocessed.iloc[[df1_ages.idxmin()]]"
   ]
  },
  {
   "cell_type": "code",
   "execution_count": 18,
   "metadata": {},
   "outputs": [
    {
     "data": {
      "text/html": [
       "<div>\n",
       "<style scoped>\n",
       "    .dataframe tbody tr th:only-of-type {\n",
       "        vertical-align: middle;\n",
       "    }\n",
       "\n",
       "    .dataframe tbody tr th {\n",
       "        vertical-align: top;\n",
       "    }\n",
       "\n",
       "    .dataframe thead th {\n",
       "        text-align: right;\n",
       "    }\n",
       "</style>\n",
       "<table border=\"1\" class=\"dataframe\">\n",
       "  <thead>\n",
       "    <tr style=\"text-align: right;\">\n",
       "      <th></th>\n",
       "      <th>Rank</th>\n",
       "      <th>100m</th>\n",
       "      <th>WIND</th>\n",
       "      <th>Competitor</th>\n",
       "      <th>DOB</th>\n",
       "      <th>Nat</th>\n",
       "      <th>Pos</th>\n",
       "      <th>Venue</th>\n",
       "      <th>Date</th>\n",
       "      <th>Results Score</th>\n",
       "      <th>Gender</th>\n",
       "      <th>Age at PB</th>\n",
       "      <th>JAM</th>\n",
       "      <th>USA</th>\n",
       "    </tr>\n",
       "  </thead>\n",
       "  <tbody>\n",
       "    <tr>\n",
       "      <th>2078</th>\n",
       "      <td>371</td>\n",
       "      <td>11.18</td>\n",
       "      <td>1.0</td>\n",
       "      <td>Irina KHABAROVA</td>\n",
       "      <td>18 MAR 1966</td>\n",
       "      <td>RUS</td>\n",
       "      <td>1</td>\n",
       "      <td>Tula (RUS)</td>\n",
       "      <td>15 JUL 2006</td>\n",
       "      <td>1161</td>\n",
       "      <td>0</td>\n",
       "      <td>40.325804</td>\n",
       "      <td>0</td>\n",
       "      <td>0</td>\n",
       "    </tr>\n",
       "  </tbody>\n",
       "</table>\n",
       "</div>"
      ],
      "text/plain": [
       "      Rank   100m  WIND       Competitor          DOB  Nat Pos       Venue  \\\n",
       "2078   371  11.18   1.0  Irina KHABAROVA  18 MAR 1966  RUS   1  Tula (RUS)   \n",
       "\n",
       "             Date  Results Score  Gender  Age at PB  JAM  USA  \n",
       "2078  15 JUL 2006           1161       0  40.325804    0    0  "
      ]
     },
     "execution_count": 18,
     "metadata": {},
     "output_type": "execute_result"
    }
   ],
   "source": [
    "df1_preprocessed.iloc[[df1_ages.idxmax()]]"
   ]
  },
  {
   "cell_type": "markdown",
   "metadata": {},
   "source": [
    "### IV. Years with most PBs ###"
   ]
  },
  {
   "cell_type": "code",
   "execution_count": 19,
   "metadata": {},
   "outputs": [
    {
     "data": {
      "image/png": "[encoded data removed]",
      "text/plain": [
       "<Figure size 432x864 with 1 Axes>"
      ]
     },
     "metadata": {
      "needs_background": "light"
     },
     "output_type": "display_data"
    }
   ],
   "source": [
    "df1_preprocessed['Year of PB'] = pd.to_datetime(df1_preprocessed['Date']).dt.year\n",
    "df1_yearcount = df1_preprocessed['Year of PB'].value_counts()\n",
    "df1_yearcountfinal_index = df1_yearcount[df1_yearcount>=50].index\n",
    "\n",
    "# plot\n",
    "plt.figure(figsize=(6,12))\n",
    "sns.countplot(y='Year of PB', data=df1_preprocessed[df1_preprocessed['Year of PB'].isin(df1_yearcountfinal_index)], order=df1_yearcountfinal_index)\n",
    "plt.xlabel('Number of PBs', size=12)\n",
    "plt.ylabel('Years with 50 PBs or more', size=12)\n",
    "plt.show()"
   ]
  },
  {
   "cell_type": "markdown",
   "metadata": {},
   "source": [
    "### V. Venues with most PBs ###"
   ]
  },
  {
   "cell_type": "code",
   "execution_count": 20,
   "metadata": {},
   "outputs": [
    {
     "data": {
      "image/png": "[encoded data removed]",
      "text/plain": [
       "<Figure size 432x864 with 1 Axes>"
      ]
     },
     "metadata": {
      "needs_background": "light"
     },
     "output_type": "display_data"
    }
   ],
   "source": [
    "df1_venuecount = df1_preprocessed['Venue'].value_counts()\n",
    "df1_venuecountfinal_index = df1_venuecount[df1_venuecount>=20].index\n",
    "\n",
    "# plot\n",
    "plt.figure(figsize=(6,12))\n",
    "sns.countplot(y='Venue', data=df1_preprocessed[df1_preprocessed['Venue'].isin(df1_venuecountfinal_index)], order=df1_venuecountfinal_index)\n",
    "plt.xlabel('Number of PBs', size=12)\n",
    "plt.ylabel('Venues with 20 PBs or more', size=12)\n",
    "plt.show()"
   ]
  },
  {
   "cell_type": "markdown",
   "metadata": {},
   "source": [
    "### VI. Correlation between features"
   ]
  },
  {
   "cell_type": "code",
   "execution_count": 21,
   "metadata": {},
   "outputs": [
    {
     "data": {
      "text/plain": [
       "<matplotlib.axes._subplots.AxesSubplot at 0x7f04963545c0>"
      ]
     },
     "execution_count": 21,
     "metadata": {},
     "output_type": "execute_result"
    },
    {
     "data": {
      "image/png": "[encoded data removed]",
      "text/plain": [
       "<Figure size 432x288 with 2 Axes>"
      ]
     },
     "metadata": {
      "needs_background": "light"
     },
     "output_type": "display_data"
    }
   ],
   "source": [
    "sns.heatmap(df1_preprocessed.corr(),cmap='viridis')"
   ]
  },
  {
   "cell_type": "markdown",
   "metadata": {},
   "source": [
    "The behavior is as expected. By definition, the Results Score is highly anti-correlated with the Rank (highest score gives you rank #1 in the all-time list). Gender is also highly anti-correlated with the 100m mark as women (gender 0) have higher 100m PBs while men (gender 1) have lower 100m PBs. Naturally, Results Score and 100m PBs would be highly anti-correlated for each gender separately but since we include both in the same dataset the anti-correlation is smaller."
   ]
  },
  {
   "cell_type": "markdown",
   "metadata": {},
   "source": [
    "### VII. World records for 100m men 1st-6th finish ###"
   ]
  },
  {
   "cell_type": "code",
   "execution_count": 22,
   "metadata": {},
   "outputs": [],
   "source": [
    "# need list with ALL results (not only 'best by athlete')\n",
    "df_to_concat_100m_all_list = []\n",
    "\n",
    "npage=10\n",
    "ip=1\n",
    "while ip<=npage:\n",
    "    one_page_read = pd.read_html('http://www.worldathletics.org/records/all-time-toplists/sprints/100-metres/outdoor/men/senior?regionType=world&timing=electronic&windReading=regular&page=' + str(ip) + '&bestResultsOnly=false&firstDay=1899-12-31&lastDay=' + datetime.today().strftime('%Y-%m-%d'))\n",
    "    df_to_concat_100m_all_list.append(one_page_read[0])\n",
    "    ip+=1\n",
    "    \n",
    "df3 = pd.concat(df_to_concat_100m_all_list, ignore_index=True)"
   ]
  },
  {
   "cell_type": "code",
   "execution_count": 23,
   "metadata": {},
   "outputs": [
    {
     "data": {
      "text/html": [
       "<div>\n",
       "<style scoped>\n",
       "    .dataframe tbody tr th:only-of-type {\n",
       "        vertical-align: middle;\n",
       "    }\n",
       "\n",
       "    .dataframe tbody tr th {\n",
       "        vertical-align: top;\n",
       "    }\n",
       "\n",
       "    .dataframe thead th {\n",
       "        text-align: right;\n",
       "    }\n",
       "</style>\n",
       "<table border=\"1\" class=\"dataframe\">\n",
       "  <thead>\n",
       "    <tr style=\"text-align: right;\">\n",
       "      <th></th>\n",
       "      <th>Rank</th>\n",
       "      <th>Mark</th>\n",
       "      <th>WIND</th>\n",
       "      <th>Competitor</th>\n",
       "      <th>DOB</th>\n",
       "      <th>Nat</th>\n",
       "      <th>Pos</th>\n",
       "      <th>Venue</th>\n",
       "      <th>Date</th>\n",
       "      <th>Results Score</th>\n",
       "    </tr>\n",
       "  </thead>\n",
       "  <tbody>\n",
       "    <tr>\n",
       "      <th>0</th>\n",
       "      <td>1</td>\n",
       "      <td>9.58</td>\n",
       "      <td>0.9</td>\n",
       "      <td>Usain BOLT</td>\n",
       "      <td>21 AUG 1986</td>\n",
       "      <td>JAM</td>\n",
       "      <td>1</td>\n",
       "      <td>Olympiastadion, Berlin (GER)</td>\n",
       "      <td>16 AUG 2009</td>\n",
       "      <td>1356</td>\n",
       "    </tr>\n",
       "    <tr>\n",
       "      <th>5</th>\n",
       "      <td>6</td>\n",
       "      <td>9.71</td>\n",
       "      <td>0.9</td>\n",
       "      <td>Tyson GAY</td>\n",
       "      <td>09 AUG 1982</td>\n",
       "      <td>USA</td>\n",
       "      <td>2</td>\n",
       "      <td>Olympiastadion, Berlin (GER)</td>\n",
       "      <td>16 AUG 2009</td>\n",
       "      <td>1308</td>\n",
       "    </tr>\n",
       "    <tr>\n",
       "      <th>39</th>\n",
       "      <td>35</td>\n",
       "      <td>9.79</td>\n",
       "      <td>1.5</td>\n",
       "      <td>Justin GATLIN</td>\n",
       "      <td>10 FEB 1982</td>\n",
       "      <td>USA</td>\n",
       "      <td>3</td>\n",
       "      <td>Olympic Stadium, London (GBR)</td>\n",
       "      <td>05 AUG 2012</td>\n",
       "      <td>1280</td>\n",
       "    </tr>\n",
       "    <tr>\n",
       "      <th>178</th>\n",
       "      <td>160</td>\n",
       "      <td>9.88</td>\n",
       "      <td>1.5</td>\n",
       "      <td>Ryan BAILEY</td>\n",
       "      <td>13 APR 1989</td>\n",
       "      <td>USA</td>\n",
       "      <td>4</td>\n",
       "      <td>Olympic Stadium, London (GBR)</td>\n",
       "      <td>05 AUG 2012</td>\n",
       "      <td>1248</td>\n",
       "    </tr>\n",
       "    <tr>\n",
       "      <th>365</th>\n",
       "      <td>337</td>\n",
       "      <td>9.93</td>\n",
       "      <td>0.9</td>\n",
       "      <td>Richard THOMPSON</td>\n",
       "      <td>07 JUN 1985</td>\n",
       "      <td>TTO</td>\n",
       "      <td>5</td>\n",
       "      <td>Olympiastadion, Berlin (GER)</td>\n",
       "      <td>16 AUG 2009</td>\n",
       "      <td>1231</td>\n",
       "    </tr>\n",
       "    <tr>\n",
       "      <th>552</th>\n",
       "      <td>547</td>\n",
       "      <td>9.96</td>\n",
       "      <td>1.2</td>\n",
       "      <td>Raymond STEWART</td>\n",
       "      <td>18 MAR 1965</td>\n",
       "      <td>JAM</td>\n",
       "      <td>6</td>\n",
       "      <td>Olympic Stadium, Tokyo (JPN)</td>\n",
       "      <td>25 AUG 1991</td>\n",
       "      <td>1220</td>\n",
       "    </tr>\n",
       "    <tr>\n",
       "      <th>627</th>\n",
       "      <td>547</td>\n",
       "      <td>9.96</td>\n",
       "      <td>0.2</td>\n",
       "      <td>Ben Youssef MEITÉ</td>\n",
       "      <td>11 NOV 1986</td>\n",
       "      <td>CIV</td>\n",
       "      <td>6</td>\n",
       "      <td>Estádio Olímpico, Rio de Janeiro (BRA)</td>\n",
       "      <td>14 AUG 2016</td>\n",
       "      <td>1220</td>\n",
       "    </tr>\n",
       "  </tbody>\n",
       "</table>\n",
       "</div>"
      ],
      "text/plain": [
       "     Rank  Mark  WIND         Competitor          DOB  Nat Pos  \\\n",
       "0       1  9.58   0.9         Usain BOLT  21 AUG 1986  JAM   1   \n",
       "5       6  9.71   0.9          Tyson GAY  09 AUG 1982  USA   2   \n",
       "39     35  9.79   1.5      Justin GATLIN  10 FEB 1982  USA   3   \n",
       "178   160  9.88   1.5        Ryan BAILEY  13 APR 1989  USA   4   \n",
       "365   337  9.93   0.9   Richard THOMPSON  07 JUN 1985  TTO   5   \n",
       "552   547  9.96   1.2    Raymond STEWART  18 MAR 1965  JAM   6   \n",
       "627   547  9.96   0.2  Ben Youssef MEITÉ  11 NOV 1986  CIV   6   \n",
       "\n",
       "                                      Venue         Date  Results Score  \n",
       "0              Olympiastadion, Berlin (GER)  16 AUG 2009           1356  \n",
       "5              Olympiastadion, Berlin (GER)  16 AUG 2009           1308  \n",
       "39            Olympic Stadium, London (GBR)  05 AUG 2012           1280  \n",
       "178           Olympic Stadium, London (GBR)  05 AUG 2012           1248  \n",
       "365            Olympiastadion, Berlin (GER)  16 AUG 2009           1231  \n",
       "552            Olympic Stadium, Tokyo (JPN)  25 AUG 1991           1220  \n",
       "627  Estádio Olímpico, Rio de Janeiro (BRA)  14 AUG 2016           1220  "
      ]
     },
     "execution_count": 23,
     "metadata": {},
     "output_type": "execute_result"
    }
   ],
   "source": [
    "# get positions inside dataframe\n",
    "df3_pos=df3['Pos']\n",
    "\n",
    "df3_posfinishindex = []\n",
    "\n",
    "ipos=1\n",
    "while ipos<=6:\n",
    "\n",
    "    # determine first occurrence of ipos in dateframe and save its position\n",
    "    df3_pos_tmpindex=df3_pos[df3_pos.str.startswith(str(ipos))==True].index[0]\n",
    "    df3_posfinishindex.append(df3_pos_tmpindex)\n",
    "    \n",
    "    # handle cases where there is a tie\n",
    "    ipos_tie=1\n",
    "    df3_pos_tmpindex_tie=df3_pos[df3_pos.str.startswith(str(ipos))==True].index[ipos_tie]\n",
    "    while df3.iloc[df3_pos_tmpindex_tie]['Mark']==df3.iloc[df3_pos_tmpindex]['Mark']:\n",
    "        df3_posfinishindex.append(df3_pos_tmpindex_tie)\n",
    "        ipos_tie+=1\n",
    "        df3_pos_tmpindex_tie=df3_pos[df3_pos.str.startswith(str(ipos))==True].index[ipos_tie]\n",
    "    \n",
    "    ipos+=1\n",
    "\n",
    "# print out info\n",
    "df3.drop('Unnamed: 7',axis=1).iloc[df3_posfinishindex]"
   ]
  },
  {
   "cell_type": "markdown",
   "metadata": {},
   "source": [
    "## Create merged 100m-200m list. We want to construct a regression model that predicts an athlete's 200m PB based on their 100m PB, age at 100m PB, gender, and nationality"
   ]
  },
  {
   "cell_type": "code",
   "execution_count": 24,
   "metadata": {},
   "outputs": [],
   "source": [
    "# merge and handle athletes with same names (but different DOBs)\n",
    "df4=pd.merge(df1_preprocessed[['Competitor','DOB','Gender','Age at PB','JAM','USA','100m','Date']], df2[['Competitor','DOB','200m','Date']], on=['Competitor','DOB'])\n",
    "df4.rename(columns={'Age at PB':'Age at 100m PB'}, inplace=True)"
   ]
  },
  {
   "cell_type": "code",
   "execution_count": 25,
   "metadata": {},
   "outputs": [
    {
     "data": {
      "text/html": [
       "<div>\n",
       "<style scoped>\n",
       "    .dataframe tbody tr th:only-of-type {\n",
       "        vertical-align: middle;\n",
       "    }\n",
       "\n",
       "    .dataframe tbody tr th {\n",
       "        vertical-align: top;\n",
       "    }\n",
       "\n",
       "    .dataframe thead th {\n",
       "        text-align: right;\n",
       "    }\n",
       "</style>\n",
       "<table border=\"1\" class=\"dataframe\">\n",
       "  <thead>\n",
       "    <tr style=\"text-align: right;\">\n",
       "      <th></th>\n",
       "      <th>Competitor</th>\n",
       "      <th>DOB</th>\n",
       "      <th>Gender</th>\n",
       "      <th>Age at 100m PB</th>\n",
       "      <th>JAM</th>\n",
       "      <th>USA</th>\n",
       "      <th>100m</th>\n",
       "      <th>Date_x</th>\n",
       "      <th>200m</th>\n",
       "      <th>Date_y</th>\n",
       "    </tr>\n",
       "  </thead>\n",
       "  <tbody>\n",
       "    <tr>\n",
       "      <th>0</th>\n",
       "      <td>Usain BOLT</td>\n",
       "      <td>21 AUG 1986</td>\n",
       "      <td>1</td>\n",
       "      <td>22.986995</td>\n",
       "      <td>1</td>\n",
       "      <td>0</td>\n",
       "      <td>9.58</td>\n",
       "      <td>16 AUG 2009</td>\n",
       "      <td>19.19</td>\n",
       "      <td>20 AUG 2009</td>\n",
       "    </tr>\n",
       "    <tr>\n",
       "      <th>1</th>\n",
       "      <td>Tyson GAY</td>\n",
       "      <td>09 AUG 1982</td>\n",
       "      <td>1</td>\n",
       "      <td>27.115674</td>\n",
       "      <td>0</td>\n",
       "      <td>1</td>\n",
       "      <td>9.69</td>\n",
       "      <td>20 SEP 2009</td>\n",
       "      <td>19.58</td>\n",
       "      <td>30 MAY 2009</td>\n",
       "    </tr>\n",
       "    <tr>\n",
       "      <th>2</th>\n",
       "      <td>Yohan BLAKE</td>\n",
       "      <td>26 DEC 1989</td>\n",
       "      <td>1</td>\n",
       "      <td>22.658453</td>\n",
       "      <td>1</td>\n",
       "      <td>0</td>\n",
       "      <td>9.69</td>\n",
       "      <td>23 AUG 2012</td>\n",
       "      <td>19.26</td>\n",
       "      <td>16 SEP 2011</td>\n",
       "    </tr>\n",
       "    <tr>\n",
       "      <th>3</th>\n",
       "      <td>Asafa POWELL</td>\n",
       "      <td>23 NOV 1982</td>\n",
       "      <td>1</td>\n",
       "      <td>25.776865</td>\n",
       "      <td>1</td>\n",
       "      <td>0</td>\n",
       "      <td>9.72</td>\n",
       "      <td>02 SEP 2008</td>\n",
       "      <td>19.90</td>\n",
       "      <td>25 JUN 2006</td>\n",
       "    </tr>\n",
       "    <tr>\n",
       "      <th>4</th>\n",
       "      <td>Justin GATLIN</td>\n",
       "      <td>10 FEB 1982</td>\n",
       "      <td>1</td>\n",
       "      <td>33.256674</td>\n",
       "      <td>0</td>\n",
       "      <td>1</td>\n",
       "      <td>9.74</td>\n",
       "      <td>15 MAY 2015</td>\n",
       "      <td>19.57</td>\n",
       "      <td>28 JUN 2015</td>\n",
       "    </tr>\n",
       "  </tbody>\n",
       "</table>\n",
       "</div>"
      ],
      "text/plain": [
       "      Competitor          DOB  Gender  Age at 100m PB  JAM  USA  100m  \\\n",
       "0     Usain BOLT  21 AUG 1986       1       22.986995    1    0  9.58   \n",
       "1      Tyson GAY  09 AUG 1982       1       27.115674    0    1  9.69   \n",
       "2    Yohan BLAKE  26 DEC 1989       1       22.658453    1    0  9.69   \n",
       "3   Asafa POWELL  23 NOV 1982       1       25.776865    1    0  9.72   \n",
       "4  Justin GATLIN  10 FEB 1982       1       33.256674    0    1  9.74   \n",
       "\n",
       "        Date_x   200m       Date_y  \n",
       "0  16 AUG 2009  19.19  20 AUG 2009  \n",
       "1  20 SEP 2009  19.58  30 MAY 2009  \n",
       "2  23 AUG 2012  19.26  16 SEP 2011  \n",
       "3  02 SEP 2008  19.90  25 JUN 2006  \n",
       "4  15 MAY 2015  19.57  28 JUN 2015  "
      ]
     },
     "execution_count": 25,
     "metadata": {},
     "output_type": "execute_result"
    }
   ],
   "source": [
    "df4.head()"
   ]
  },
  {
   "cell_type": "markdown",
   "metadata": {},
   "source": [
    "### Filter data  \n",
    "We keep only inputs where 100m and 200m PBs were obtained less than 5 years apart"
   ]
  },
  {
   "cell_type": "code",
   "execution_count": 26,
   "metadata": {},
   "outputs": [],
   "source": [
    "# convert dates to date format\n",
    "df4['Date_x']=pd.to_datetime(df4['Date_x'])\n",
    "df4['Date_y']=pd.to_datetime(df4['Date_y'])\n",
    "\n",
    "# take difference between 100m and 200m PB dates\n",
    "df4['DeltaT']=abs(df4['Date_x']-df4['Date_y'])\n",
    "\n",
    "# filter data: keep only entries where 100m and 200m PBs were obtained less than 5 years apart\n",
    "df4_final=df4[df4['DeltaT']<'1825 days'].copy()"
   ]
  },
  {
   "cell_type": "markdown",
   "metadata": {},
   "source": [
    "### Final pre-processing : substitute NaNs in 'Age at 100m PB' with average age"
   ]
  },
  {
   "cell_type": "code",
   "execution_count": 27,
   "metadata": {},
   "outputs": [],
   "source": [
    "fill_age_value = {'Age at 100m PB': df4_final['Age at 100m PB'].mean()}\n",
    "df4_final.fillna(fill_age_value,inplace=True)"
   ]
  },
  {
   "cell_type": "markdown",
   "metadata": {},
   "source": [
    "## Linear Regression using sk-learn"
   ]
  },
  {
   "cell_type": "markdown",
   "metadata": {},
   "source": [
    "### Create inputs and target"
   ]
  },
  {
   "cell_type": "code",
   "execution_count": 28,
   "metadata": {},
   "outputs": [],
   "source": [
    "X = df4_final[['100m','Age at 100m PB','Gender','JAM','USA']]\n",
    "y = df4_final['200m']"
   ]
  },
  {
   "cell_type": "markdown",
   "metadata": {},
   "source": [
    "### Standardize numerical features"
   ]
  },
  {
   "cell_type": "code",
   "execution_count": 29,
   "metadata": {},
   "outputs": [],
   "source": [
    "scaled_X = X.copy()\n",
    "features = scaled_X[['100m', 'Age at 100m PB']]\n",
    "\n",
    "scaler = StandardScaler()\n",
    "scaler.fit(features.values)\n",
    "features = scaler.transform(features.values)\n",
    "scaled_X[['100m', 'Age at 100m PB']] = features"
   ]
  },
  {
   "cell_type": "code",
   "execution_count": 30,
   "metadata": {
    "scrolled": true
   },
   "outputs": [
    {
     "data": {
      "text/html": [
       "<div>\n",
       "<style scoped>\n",
       "    .dataframe tbody tr th:only-of-type {\n",
       "        vertical-align: middle;\n",
       "    }\n",
       "\n",
       "    .dataframe tbody tr th {\n",
       "        vertical-align: top;\n",
       "    }\n",
       "\n",
       "    .dataframe thead th {\n",
       "        text-align: right;\n",
       "    }\n",
       "</style>\n",
       "<table border=\"1\" class=\"dataframe\">\n",
       "  <thead>\n",
       "    <tr style=\"text-align: right;\">\n",
       "      <th></th>\n",
       "      <th>100m</th>\n",
       "      <th>Age at 100m PB</th>\n",
       "      <th>Gender</th>\n",
       "      <th>JAM</th>\n",
       "      <th>USA</th>\n",
       "    </tr>\n",
       "  </thead>\n",
       "  <tbody>\n",
       "    <tr>\n",
       "      <th>0</th>\n",
       "      <td>-2.016439</td>\n",
       "      <td>-0.214356</td>\n",
       "      <td>1</td>\n",
       "      <td>1</td>\n",
       "      <td>0</td>\n",
       "    </tr>\n",
       "    <tr>\n",
       "      <th>1</th>\n",
       "      <td>-1.823380</td>\n",
       "      <td>1.098800</td>\n",
       "      <td>1</td>\n",
       "      <td>0</td>\n",
       "      <td>1</td>\n",
       "    </tr>\n",
       "    <tr>\n",
       "      <th>2</th>\n",
       "      <td>-1.823380</td>\n",
       "      <td>-0.318851</td>\n",
       "      <td>1</td>\n",
       "      <td>1</td>\n",
       "      <td>0</td>\n",
       "    </tr>\n",
       "    <tr>\n",
       "      <th>3</th>\n",
       "      <td>-1.770728</td>\n",
       "      <td>0.672982</td>\n",
       "      <td>1</td>\n",
       "      <td>1</td>\n",
       "      <td>0</td>\n",
       "    </tr>\n",
       "    <tr>\n",
       "      <th>4</th>\n",
       "      <td>-1.735627</td>\n",
       "      <td>3.051988</td>\n",
       "      <td>1</td>\n",
       "      <td>0</td>\n",
       "      <td>1</td>\n",
       "    </tr>\n",
       "  </tbody>\n",
       "</table>\n",
       "</div>"
      ],
      "text/plain": [
       "       100m  Age at 100m PB  Gender  JAM  USA\n",
       "0 -2.016439       -0.214356       1    1    0\n",
       "1 -1.823380        1.098800       1    0    1\n",
       "2 -1.823380       -0.318851       1    1    0\n",
       "3 -1.770728        0.672982       1    1    0\n",
       "4 -1.735627        3.051988       1    0    1"
      ]
     },
     "execution_count": 30,
     "metadata": {},
     "output_type": "execute_result"
    }
   ],
   "source": [
    "scaled_X.head()"
   ]
  },
  {
   "cell_type": "markdown",
   "metadata": {},
   "source": [
    "### Train-test split (80-20)"
   ]
  },
  {
   "cell_type": "code",
   "execution_count": 31,
   "metadata": {},
   "outputs": [],
   "source": [
    "X_train, X_test, y_train, y_test = train_test_split(scaled_X, y, test_size=0.2, random_state=42)"
   ]
  },
  {
   "cell_type": "markdown",
   "metadata": {},
   "source": [
    "### Perform regression"
   ]
  },
  {
   "cell_type": "code",
   "execution_count": 32,
   "metadata": {},
   "outputs": [
    {
     "data": {
      "text/plain": [
       "LinearRegression(copy_X=True, fit_intercept=True, n_jobs=None, normalize=False)"
      ]
     },
     "execution_count": 32,
     "metadata": {},
     "output_type": "execute_result"
    }
   ],
   "source": [
    "reg = LinearRegression()\n",
    "reg.fit(X_train,y_train)"
   ]
  },
  {
   "cell_type": "code",
   "execution_count": 33,
   "metadata": {},
   "outputs": [],
   "source": [
    "# predictions\n",
    "y_hat = reg.predict(X_train)"
   ]
  },
  {
   "cell_type": "code",
   "execution_count": 34,
   "metadata": {
    "scrolled": true
   },
   "outputs": [
    {
     "name": "stdout",
     "output_type": "stream",
     "text": [
      "R2_train =  0.9600022015252779\n",
      "intercept =  22.185438614510552\n"
     ]
    },
    {
     "data": {
      "text/html": [
       "<div>\n",
       "<style scoped>\n",
       "    .dataframe tbody tr th:only-of-type {\n",
       "        vertical-align: middle;\n",
       "    }\n",
       "\n",
       "    .dataframe tbody tr th {\n",
       "        vertical-align: top;\n",
       "    }\n",
       "\n",
       "    .dataframe thead th {\n",
       "        text-align: right;\n",
       "    }\n",
       "</style>\n",
       "<table border=\"1\" class=\"dataframe\">\n",
       "  <thead>\n",
       "    <tr style=\"text-align: right;\">\n",
       "      <th></th>\n",
       "      <th>Features</th>\n",
       "      <th>Weights</th>\n",
       "    </tr>\n",
       "  </thead>\n",
       "  <tbody>\n",
       "    <tr>\n",
       "      <th>0</th>\n",
       "      <td>100m</td>\n",
       "      <td>0.781864</td>\n",
       "    </tr>\n",
       "    <tr>\n",
       "      <th>1</th>\n",
       "      <td>Age at 100m PB</td>\n",
       "      <td>-0.022420</td>\n",
       "    </tr>\n",
       "    <tr>\n",
       "      <th>2</th>\n",
       "      <td>Gender</td>\n",
       "      <td>-0.976281</td>\n",
       "    </tr>\n",
       "    <tr>\n",
       "      <th>3</th>\n",
       "      <td>JAM</td>\n",
       "      <td>-0.010925</td>\n",
       "    </tr>\n",
       "    <tr>\n",
       "      <th>4</th>\n",
       "      <td>USA</td>\n",
       "      <td>-0.030778</td>\n",
       "    </tr>\n",
       "  </tbody>\n",
       "</table>\n",
       "</div>"
      ],
      "text/plain": [
       "         Features   Weights\n",
       "0            100m  0.781864\n",
       "1  Age at 100m PB -0.022420\n",
       "2          Gender -0.976281\n",
       "3             JAM -0.010925\n",
       "4             USA -0.030778"
      ]
     },
     "execution_count": 34,
     "metadata": {},
     "output_type": "execute_result"
    }
   ],
   "source": [
    "# get R-squared of train sample\n",
    "R2_train=reg.score(X_train,y_train)\n",
    "print ('R2_train = ',R2_train)\n",
    "\n",
    "# get intercept\n",
    "const=reg.intercept_\n",
    "print ('intercept = ',const)\n",
    "\n",
    "# get weights\n",
    "reg_summary = pd.DataFrame(scaled_X.columns.values, columns=['Features'])\n",
    "reg_summary['Weights'] = reg.coef_\n",
    "reg_summary"
   ]
  },
  {
   "cell_type": "markdown",
   "metadata": {},
   "source": [
    "By looking at the weights we can extract very interesting information. First of all, 'Age at 100m PB' has essentially no impact in predicting the 200m PB of an athlete. The same is true for the nationality. Being either American or Jamaican reduces an athlete's predicted 200m PB only by 1-3/100 of a second. On the other hand, an athlete's 100m PB and gender play very big roles, as expected. The impact of the 100m PB is hard to interpret because we standardized this feature, while the impact of gender is easier to understand. More specifically, it is predicted that being male reduces an athlete's 200m PB by approx one second (without even considering the athlete's 100m PB). Finally, we could do backward elimination and eliminate nationality and age from our set of features and repeat the regression but it is likely that the result would not change much."
   ]
  },
  {
   "cell_type": "code",
   "execution_count": 35,
   "metadata": {
    "scrolled": false
   },
   "outputs": [
    {
     "data": {
      "image/png": "[encoded data removed]",
      "text/plain": [
       "<Figure size 432x432 with 1 Axes>"
      ]
     },
     "metadata": {
      "needs_background": "light"
     },
     "output_type": "display_data"
    }
   ],
   "source": [
    "plt.figure(figsize=(6,6))\n",
    "plt.scatter(y_train, y_hat, 10, marker='.', c='r')\n",
    "plt.xlabel('Targets',size=14)\n",
    "plt.ylabel('Predictions',size=14)\n",
    "plt.xlim(19.1,23.5)\n",
    "plt.ylim(19.1,23.5)\n",
    "plt.title('TRAIN SET')\n",
    "_ = plt.plot([19.1,23.5],[19.1,23.5])\n",
    "plt.show()"
   ]
  },
  {
   "cell_type": "code",
   "execution_count": 36,
   "metadata": {
    "scrolled": true
   },
   "outputs": [
    {
     "data": {
      "text/plain": [
       "Text(0.5, 1.0, 'Train residuals PDF')"
      ]
     },
     "execution_count": 36,
     "metadata": {},
     "output_type": "execute_result"
    },
    {
     "data": {
      "image/png": "[encoded data removed]",
      "text/plain": [
       "<Figure size 432x288 with 1 Axes>"
      ]
     },
     "metadata": {
      "needs_background": "light"
     },
     "output_type": "display_data"
    }
   ],
   "source": [
    "sns.distplot(y_train - y_hat,color='r')\n",
    "plt.title(\"Train residuals PDF\", size=14)"
   ]
  },
  {
   "cell_type": "markdown",
   "metadata": {},
   "source": [
    "We observe normal behavior for the distribution of the residuals of the train set. Since the peak of the distribution is slightly greater than zero, we can say that the regression predicts 200m PBs slightly lower than the true values."
   ]
  },
  {
   "cell_type": "markdown",
   "metadata": {},
   "source": [
    "### Testing"
   ]
  },
  {
   "cell_type": "code",
   "execution_count": 37,
   "metadata": {},
   "outputs": [
    {
     "name": "stdout",
     "output_type": "stream",
     "text": [
      "R2_test =  0.9646503715915118\n"
     ]
    }
   ],
   "source": [
    "y_hat_test = reg.predict(X_test)\n",
    "\n",
    "R2_test=reg.score(X_test,y_test)\n",
    "print ('R2_test = ',R2_test)"
   ]
  },
  {
   "cell_type": "code",
   "execution_count": 38,
   "metadata": {},
   "outputs": [
    {
     "data": {
      "image/png": "[encoded data removed]",
      "text/plain": [
       "<Figure size 432x432 with 1 Axes>"
      ]
     },
     "metadata": {
      "needs_background": "light"
     },
     "output_type": "display_data"
    }
   ],
   "source": [
    "plt.figure(figsize=(6,6))\n",
    "plt.scatter(y_test, y_hat_test, 10, marker='.', c='r')\n",
    "plt.xlabel('Targets',size=14)\n",
    "plt.ylabel('Predictions',size=14)\n",
    "plt.xlim(19.1,23.5)\n",
    "plt.ylim(19.1,23.5)\n",
    "plt.title('TEST SET')\n",
    "_ = plt.plot([19.1,23.5],[19.1,23.5])\n",
    "plt.show()"
   ]
  },
  {
   "cell_type": "code",
   "execution_count": 39,
   "metadata": {
    "scrolled": true
   },
   "outputs": [
    {
     "data": {
      "text/plain": [
       "Text(0.5, 1.0, 'Test residuals PDF')"
      ]
     },
     "execution_count": 39,
     "metadata": {},
     "output_type": "execute_result"
    },
    {
     "data": {
      "image/png": "[encoded data removed]",
      "text/plain": [
       "<Figure size 432x288 with 1 Axes>"
      ]
     },
     "metadata": {
      "needs_background": "light"
     },
     "output_type": "display_data"
    }
   ],
   "source": [
    "sns.distplot(y_test - y_hat_test, color='r')\n",
    "plt.title(\"Test residuals PDF\", size=14)"
   ]
  },
  {
   "cell_type": "markdown",
   "metadata": {},
   "source": [
    "## Neural Network using TensorFlow 2"
   ]
  },
  {
   "cell_type": "markdown",
   "metadata": {},
   "source": [
    "### Further split train set into train and validation sets. Overall split: 64 (train) - 16 (val) - 20 (test)"
   ]
  },
  {
   "cell_type": "code",
   "execution_count": 40,
   "metadata": {},
   "outputs": [],
   "source": [
    "X_train_nn, X_val_nn, y_train_nn, y_val_nn = train_test_split(X_train, y_train, test_size=0.2, random_state=42)"
   ]
  },
  {
   "cell_type": "markdown",
   "metadata": {},
   "source": [
    "Convert dataframes into numpy arrays for tensorflow"
   ]
  },
  {
   "cell_type": "code",
   "execution_count": 41,
   "metadata": {},
   "outputs": [],
   "source": [
    "# train\n",
    "train_inputs, train_target = X_train_nn.values, y_train_nn.values\n",
    "# validation\n",
    "validation_inputs, validation_target = X_val_nn.values, y_val_nn.values\n",
    "# test\n",
    "test_inputs, test_target = X_test.values, y_test.values"
   ]
  },
  {
   "cell_type": "markdown",
   "metadata": {},
   "source": [
    "### Define and train neural network\n",
    "Outline of the network:  \n",
    "1. Two hidden layers with 64 nodes each. We choose sigmoid for the 1st layer and relu for the 2nd layer to probe the possible non-linearity of this regression\n",
    "2. We choose adam as the optimizer  \n",
    "3. We choose logcosh as the loss function to reduce the impact of outliers (in general, track and field performances can depend on many unpredictable factors so outliers are to be expected but the regression shouldn't depend heavily on them in our opinion)\n",
    "4. We are interested in MAE as a metric for the regression accuracy\n",
    "5. We use a validation set with early stopping (with patience=2) to prevent overfitting of the train set  \n",
    "6. Finally, we fix the batch size to be 100 and the max number of epochs to be 300"
   ]
  },
  {
   "cell_type": "code",
   "execution_count": 42,
   "metadata": {},
   "outputs": [
    {
     "name": "stdout",
     "output_type": "stream",
     "text": [
      "Train on 1152 samples, validate on 289 samples\n",
      "Epoch 1/300\n",
      "1152/1152 - 1s - loss: 20.6974 - mae: 21.3906 - val_loss: 19.8166 - val_mae: 20.5097\n",
      "Epoch 2/300\n",
      "1152/1152 - 0s - loss: 19.2617 - mae: 19.9548 - val_loss: 18.4397 - val_mae: 19.1329\n",
      "Epoch 3/300\n",
      "1152/1152 - 0s - loss: 17.8188 - mae: 18.5120 - val_loss: 16.8726 - val_mae: 17.5658\n",
      "Epoch 4/300\n",
      "1152/1152 - 0s - loss: 16.1192 - mae: 16.8124 - val_loss: 14.9921 - val_mae: 15.6853\n",
      "Epoch 5/300\n",
      "1152/1152 - 0s - loss: 14.0854 - mae: 14.7786 - val_loss: 12.7520 - val_mae: 13.4451\n",
      "Epoch 6/300\n",
      "1152/1152 - 0s - loss: 11.6708 - mae: 12.3640 - val_loss: 10.1021 - val_mae: 10.7952\n",
      "Epoch 7/300\n",
      "1152/1152 - 0s - loss: 8.8280 - mae: 9.5211 - val_loss: 6.9998 - val_mae: 7.6930\n",
      "Epoch 8/300\n",
      "1152/1152 - 0s - loss: 5.5165 - mae: 6.2092 - val_loss: 3.4114 - val_mae: 4.0964\n",
      "Epoch 9/300\n",
      "1152/1152 - 0s - loss: 2.0868 - mae: 2.6888 - val_loss: 1.0790 - val_mae: 1.6720\n",
      "Epoch 10/300\n",
      "1152/1152 - 0s - loss: 0.9970 - mae: 1.5630 - val_loss: 1.0065 - val_mae: 1.5698\n",
      "Epoch 11/300\n",
      "1152/1152 - 0s - loss: 0.8052 - mae: 1.3451 - val_loss: 0.6040 - val_mae: 1.1228\n",
      "Epoch 12/300\n",
      "1152/1152 - 0s - loss: 0.5051 - mae: 0.9754 - val_loss: 0.4291 - val_mae: 0.8667\n",
      "Epoch 13/300\n",
      "1152/1152 - 0s - loss: 0.3449 - mae: 0.7549 - val_loss: 0.2735 - val_mae: 0.6655\n",
      "Epoch 14/300\n",
      "1152/1152 - 0s - loss: 0.2281 - mae: 0.5960 - val_loss: 0.1840 - val_mae: 0.5225\n",
      "Epoch 15/300\n",
      "1152/1152 - 0s - loss: 0.1579 - mae: 0.4869 - val_loss: 0.1322 - val_mae: 0.4413\n",
      "Epoch 16/300\n",
      "1152/1152 - 0s - loss: 0.1178 - mae: 0.4174 - val_loss: 0.1008 - val_mae: 0.3794\n",
      "Epoch 17/300\n",
      "1152/1152 - 0s - loss: 0.0957 - mae: 0.3698 - val_loss: 0.0846 - val_mae: 0.3431\n",
      "Epoch 18/300\n",
      "1152/1152 - 0s - loss: 0.0818 - mae: 0.3387 - val_loss: 0.0747 - val_mae: 0.3188\n",
      "Epoch 19/300\n",
      "1152/1152 - 0s - loss: 0.0728 - mae: 0.3159 - val_loss: 0.0668 - val_mae: 0.2969\n",
      "Epoch 20/300\n",
      "1152/1152 - 0s - loss: 0.0661 - mae: 0.2973 - val_loss: 0.0611 - val_mae: 0.2798\n",
      "Epoch 21/300\n",
      "1152/1152 - 0s - loss: 0.0610 - mae: 0.2837 - val_loss: 0.0566 - val_mae: 0.2656\n",
      "Epoch 22/300\n",
      "1152/1152 - 0s - loss: 0.0570 - mae: 0.2714 - val_loss: 0.0534 - val_mae: 0.2551\n",
      "Epoch 23/300\n",
      "1152/1152 - 0s - loss: 0.0537 - mae: 0.2622 - val_loss: 0.0508 - val_mae: 0.2462\n",
      "Epoch 24/300\n",
      "1152/1152 - 0s - loss: 0.0510 - mae: 0.2535 - val_loss: 0.0484 - val_mae: 0.2388\n",
      "Epoch 25/300\n",
      "1152/1152 - 0s - loss: 0.0493 - mae: 0.2485 - val_loss: 0.0474 - val_mae: 0.2343\n",
      "Epoch 26/300\n",
      "1152/1152 - 0s - loss: 0.0483 - mae: 0.2450 - val_loss: 0.0461 - val_mae: 0.2298\n",
      "Epoch 27/300\n",
      "1152/1152 - 0s - loss: 0.0468 - mae: 0.2406 - val_loss: 0.0455 - val_mae: 0.2271\n",
      "Epoch 28/300\n",
      "1152/1152 - 0s - loss: 0.0459 - mae: 0.2374 - val_loss: 0.0445 - val_mae: 0.2241\n",
      "Epoch 29/300\n",
      "1152/1152 - 0s - loss: 0.0451 - mae: 0.2347 - val_loss: 0.0440 - val_mae: 0.2227\n",
      "Epoch 30/300\n",
      "1152/1152 - 0s - loss: 0.0445 - mae: 0.2330 - val_loss: 0.0436 - val_mae: 0.2215\n",
      "Epoch 31/300\n",
      "1152/1152 - 0s - loss: 0.0442 - mae: 0.2325 - val_loss: 0.0440 - val_mae: 0.2217\n",
      "Epoch 32/300\n",
      "1152/1152 - 0s - loss: 0.0438 - mae: 0.2310 - val_loss: 0.0427 - val_mae: 0.2195\n",
      "Epoch 33/300\n",
      "1152/1152 - 0s - loss: 0.0436 - mae: 0.2308 - val_loss: 0.0430 - val_mae: 0.2195\n",
      "Epoch 34/300\n",
      "1152/1152 - 0s - loss: 0.0435 - mae: 0.2299 - val_loss: 0.0421 - val_mae: 0.2183\n",
      "Epoch 35/300\n",
      "1152/1152 - 0s - loss: 0.0431 - mae: 0.2295 - val_loss: 0.0424 - val_mae: 0.2180\n",
      "Epoch 36/300\n",
      "1152/1152 - 0s - loss: 0.0428 - mae: 0.2281 - val_loss: 0.0421 - val_mae: 0.2175\n",
      "Epoch 37/300\n",
      "1152/1152 - 0s - loss: 0.0426 - mae: 0.2280 - val_loss: 0.0421 - val_mae: 0.2171\n",
      "Epoch 38/300\n",
      "1152/1152 - 0s - loss: 0.0425 - mae: 0.2273 - val_loss: 0.0418 - val_mae: 0.2165\n",
      "Epoch 39/300\n",
      "1152/1152 - 0s - loss: 0.0426 - mae: 0.2271 - val_loss: 0.0412 - val_mae: 0.2162\n",
      "Epoch 40/300\n",
      "1152/1152 - 0s - loss: 0.0422 - mae: 0.2260 - val_loss: 0.0418 - val_mae: 0.2164\n",
      "Epoch 41/300\n",
      "1152/1152 - 0s - loss: 0.0425 - mae: 0.2279 - val_loss: 0.0424 - val_mae: 0.2181\n"
     ]
    },
    {
     "data": {
      "text/plain": [
       "<tensorflow.python.keras.callbacks.History at 0x7f048c51f160>"
      ]
     },
     "execution_count": 42,
     "metadata": {},
     "output_type": "execute_result"
    }
   ],
   "source": [
    "input_size = 5\n",
    "output_size = 1\n",
    "\n",
    "hidden_layer_size = 64\n",
    "\n",
    "model = tf.keras.Sequential([\n",
    "    tf.keras.layers.Dense(hidden_layer_size, activation='sigmoid'), # 1st hidden layer\n",
    "    tf.keras.layers.Dense(hidden_layer_size, activation='relu'), # 2nd hidden layer\n",
    "    tf.keras.layers.Dense(output_size) # output layer\n",
    "])\n",
    "\n",
    "model.compile(optimizer='adam', loss='logcosh', metrics=['mae'])\n",
    "\n",
    "batch_size = 100\n",
    "max_epochs = 300\n",
    "\n",
    "early_stopping = tf.keras.callbacks.EarlyStopping(patience=2)\n",
    "\n",
    "model.fit(train_inputs,\n",
    "          train_target,\n",
    "          batch_size=batch_size,\n",
    "          epochs=max_epochs,\n",
    "          callbacks=[early_stopping],\n",
    "          validation_data=(validation_inputs, validation_target),\n",
    "          verbose = 2\n",
    "          )  "
   ]
  },
  {
   "cell_type": "markdown",
   "metadata": {},
   "source": [
    "### Testing"
   ]
  },
  {
   "cell_type": "code",
   "execution_count": 43,
   "metadata": {},
   "outputs": [
    {
     "name": "stdout",
     "output_type": "stream",
     "text": [
      "361/1 - 0s - loss: 0.0445 - mae: 0.2227\n",
      "Test Set MAE:  0.22\n"
     ]
    }
   ],
   "source": [
    "loss, mae = model.evaluate(test_inputs,test_target,verbose=2)\n",
    "print(\"Test Set MAE: {:5.2f}\".format(mae))"
   ]
  },
  {
   "cell_type": "code",
   "execution_count": 44,
   "metadata": {},
   "outputs": [],
   "source": [
    "y_hat_test_nn = model.predict(test_inputs).flatten()"
   ]
  },
  {
   "cell_type": "code",
   "execution_count": 45,
   "metadata": {},
   "outputs": [
    {
     "name": "stdout",
     "output_type": "stream",
     "text": [
      "R2_test_nn =  0.94978065827397\n"
     ]
    }
   ],
   "source": [
    "R2_test_nn = r2_score(test_target, y_hat_test_nn)\n",
    "print ('R2_test_nn = ',R2_test_nn)"
   ]
  },
  {
   "cell_type": "code",
   "execution_count": 46,
   "metadata": {},
   "outputs": [
    {
     "data": {
      "image/png": "[encoded data removed]",
      "text/plain": [
       "<Figure size 432x432 with 1 Axes>"
      ]
     },
     "metadata": {
      "needs_background": "light"
     },
     "output_type": "display_data"
    }
   ],
   "source": [
    "plt.figure(figsize=(6,6))\n",
    "plt.scatter(test_target, y_hat_test_nn, 10, marker='.', c='g')\n",
    "plt.xlabel('Targets',size=14)\n",
    "plt.ylabel('Predictions',size=14)\n",
    "plt.xlim(19.1,23.5)\n",
    "plt.ylim(19.1,23.5)\n",
    "plt.title('TEST SET')\n",
    "_ = plt.plot([19.1,23.5],[19.1,23.5])\n",
    "plt.show()"
   ]
  },
  {
   "cell_type": "code",
   "execution_count": 47,
   "metadata": {
    "scrolled": true
   },
   "outputs": [
    {
     "data": {
      "text/plain": [
       "Text(0.5, 1.0, 'Test residuals PDF')"
      ]
     },
     "execution_count": 47,
     "metadata": {},
     "output_type": "execute_result"
    },
    {
     "data": {
      "image/png": "[encoded data removed]",
      "text/plain": [
       "<Figure size 432x288 with 1 Axes>"
      ]
     },
     "metadata": {
      "needs_background": "light"
     },
     "output_type": "display_data"
    }
   ],
   "source": [
    "sns.distplot(test_target - y_hat_test_nn, color='g')\n",
    "plt.title(\"Test residuals PDF\", size=14)"
   ]
  },
  {
   "cell_type": "markdown",
   "metadata": {},
   "source": [
    "## Comparison between Linear Regression and Neural Network"
   ]
  },
  {
   "cell_type": "code",
   "execution_count": 48,
   "metadata": {},
   "outputs": [],
   "source": [
    "# difference (%) between truth and predictions for test set for LR\n",
    "LRdiff=100*(y_test-y_hat_test)/y_test\n",
    "\n",
    "# difference (%) between truth and predictions for test set for NN\n",
    "NNdiff=100*(test_target-y_hat_test_nn)/test_target\n",
    "\n",
    "# MAPE of test set for LR\n",
    "LRmape=np.mean(np.abs(LRdiff))\n",
    "\n",
    "# MAPE of test set for NN\n",
    "NNmape=np.mean(np.abs(NNdiff))"
   ]
  },
  {
   "cell_type": "code",
   "execution_count": 49,
   "metadata": {},
   "outputs": [
    {
     "data": {
      "image/png": "[encoded data removed]",
      "text/plain": [
       "<Figure size 648x504 with 1 Axes>"
      ]
     },
     "metadata": {
      "needs_background": "light"
     },
     "output_type": "display_data"
    }
   ],
   "source": [
    "plt.figure(figsize=(9,7))\n",
    "plt.hist(LRdiff, bins=20, alpha=0.6, label='LR', color='red')\n",
    "plt.hist(NNdiff, bins=20, alpha=0.6, label='NN', color='green')\n",
    "plt.legend(loc='upper left')\n",
    "plt.title('TEST SET', size=12)\n",
    "plt.xlabel('prediction error (%)', size=12)\n",
    "plt.ylabel('# of events', size=12)\n",
    "\n",
    "plt.text(2.3,46,'MAPE = %.1f' % LRmape + '%', size=12, color='red')\n",
    "plt.text(2.3,44,'MAPE = %.1f' % NNmape + '%', size=12, color='green')\n",
    "\n",
    "plt.show()"
   ]
  },
  {
   "cell_type": "code",
   "execution_count": 50,
   "metadata": {},
   "outputs": [
    {
     "data": {
      "image/png": "[encoded data removed]",
      "text/plain": [
       "<Figure size 432x432 with 1 Axes>"
      ]
     },
     "metadata": {
      "needs_background": "light"
     },
     "output_type": "display_data"
    }
   ],
   "source": [
    "plt.figure(figsize=(6,6))\n",
    "plt.scatter(y_test, y_hat_test, 10, marker='.', c='r', label='LR')\n",
    "plt.scatter(test_target, y_hat_test_nn, 10, marker='.', c='g', label='NN')\n",
    "\n",
    "plt.xlabel('Targets',size=14)\n",
    "plt.ylabel('Predictions',size=14)\n",
    "plt.xlim(19.1,23.5)\n",
    "plt.ylim(19.1,23.5)\n",
    "plt.title('TEST SET')\n",
    "\n",
    "plt.text(22.0,19.70,'R^2 = %.4f' % R2_test, size=12, color='red')\n",
    "plt.text(22.0,19.50,'R^2 = %.4f' % R2_test_nn, size=12, color='green')\n",
    "\n",
    "plt.legend(loc='upper left')\n",
    "_ = plt.plot([19.1,23.5],[19.1,23.5])\n",
    "plt.show()"
   ]
  },
  {
   "cell_type": "markdown",
   "metadata": {},
   "source": [
    "## References ###  \n",
    "[1] https://github.com/srcole/insightfellows for ideas for the sns countplots    \n",
    "[3] official documentation of scikit-learn, pandas, tensorflow, etc  \n",
    "[4] Stackoverflow"
   ]
  }
 ],
 "metadata": {
  "kernelspec": {
   "display_name": "Python 3",
   "language": "python",
   "name": "python3"
  },
  "language_info": {
   "codemirror_mode": {
    "name": "ipython",
    "version": 3
   },
   "file_extension": ".py",
   "mimetype": "text/x-python",
   "name": "python",
   "nbconvert_exporter": "python",
   "pygments_lexer": "ipython3",
   "version": "3.7.3"
  }
 },
 "nbformat": 4,
 "nbformat_minor": 2
}
