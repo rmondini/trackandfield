{
 "cells": [
  {
   "cell_type": "markdown",
   "metadata": {},
   "source": [
    "### Scraping the data from the IAAF website to build Pandas DataFrames. This part of the code has been adapted from: https://towardsdatascience.com/web-scraping-html-tables-with-python-c9baba21059 ###"
   ]
  },
  {
   "cell_type": "code",
   "execution_count": 1,
   "metadata": {},
   "outputs": [
    {
     "name": "stderr",
     "output_type": "stream",
     "text": [
      "/home/roberto/anaconda2/lib/python2.7/site-packages/statsmodels/compat/pandas.py:56: FutureWarning: The pandas.core.datetools module is deprecated and will be removed in a future version. Please use the pandas.tseries module instead.\n",
      "  from pandas.core import datetools\n"
     ]
    }
   ],
   "source": [
    "import requests\n",
    "import lxml.html as lh\n",
    "import pandas as pd\n",
    "import matplotlib.pyplot as plt\n",
    "\n",
    "import statsmodels.api as sm\n",
    "from sklearn import linear_model"
   ]
  },
  {
   "cell_type": "code",
   "execution_count": 2,
   "metadata": {},
   "outputs": [],
   "source": [
    "# get url and create a page\n",
    "url1='http://www.iaaf.org/records/all-time-toplists/sprints/100-metres/outdoor/men/senior?page=1'\n",
    "url2='http://www.iaaf.org/records/all-time-toplists/sprints/200-metres/outdoor/men/senior?page=1'\n",
    "# need this header to open the page from my laptop\n",
    "headers = {'User-Agent': 'Mozilla/5.0 (X11; Ubuntu; Linux x86_64; rv:64.0) Gecko/20100101 Firefox/64.0'}\n",
    "page1 = requests.get(url1, headers=headers)\n",
    "page2 = requests.get(url2, headers=headers)\n",
    "\n",
    "# store the contents of the website\n",
    "doc1 = lh.fromstring(page1.content)\n",
    "doc2 = lh.fromstring(page2.content)\n",
    "\n",
    "# parse data that are stored between <tr>..</tr> of HTML\n",
    "tr1_elements = doc1.xpath('//tr')\n",
    "tr2_elements = doc2.xpath('//tr')\n",
    "\n",
    "# in our case the table starts at position 18 (with the header)\n",
    "tr1_elements = tr1_elements[18:]\n",
    "tr2_elements = tr2_elements[18:]\n",
    "\n",
    "# create final lists\n",
    "tr1_elements_final=tr1_elements[:]\n",
    "tr2_elements_final=tr2_elements[:]\n",
    "\n",
    "# number of pages of results we want to include\n",
    "np=10\n",
    "\n",
    "ip=2\n",
    "while ip<=np:\n",
    "    url1='http://www.iaaf.org/records/all-time-toplists/sprints/100-metres/outdoor/men/senior?page=' + str(ip)\n",
    "    url2='http://www.iaaf.org/records/all-time-toplists/sprints/200-metres/outdoor/men/senior?page=' + str(ip)\n",
    "    page1 = requests.get(url1, headers=headers)\n",
    "    page2 = requests.get(url2, headers=headers)\n",
    "    doc1 = lh.fromstring(page1.content)\n",
    "    doc2 = lh.fromstring(page2.content)\n",
    "    tr1_elements_tmp = doc1.xpath('//tr')\n",
    "    tr2_elements_tmp = doc2.xpath('//tr')\n",
    "    \n",
    "    # without including the header again\n",
    "    tr1_elements_final += tr1_elements_tmp[19:]\n",
    "    tr2_elements_final += tr2_elements_tmp[19:]\n",
    "    ip+=1"
   ]
  },
  {
   "cell_type": "code",
   "execution_count": 3,
   "metadata": {},
   "outputs": [],
   "source": [
    "# create empty list\n",
    "col1=[]\n",
    "col2=[]\n",
    "\n",
    "#For each row, store each first element (header) and an empty list\n",
    "i=0\n",
    "for t in tr1_elements_final[0]:\n",
    "    i+=1\n",
    "    name=t.text_content()\n",
    "    name=name.strip()\n",
    "    #print '%d:\"%s\"'%(i,name)\n",
    "    col1.append((name,[]))\n",
    "\n",
    "i=0\n",
    "for t in tr2_elements_final[0]:\n",
    "    i+=1\n",
    "    name=t.text_content()\n",
    "    name=name.strip()\n",
    "    #print '%d:\"%s\"'%(i,name)\n",
    "    col2.append((name,[]))"
   ]
  },
  {
   "cell_type": "code",
   "execution_count": 4,
   "metadata": {},
   "outputs": [],
   "source": [
    "#Since our first row is the header, data is stored on the second row onwards\n",
    "for j in range(1,len(tr1_elements_final)):\n",
    "    #T is our j'th row\n",
    "    T=tr1_elements_final[j]\n",
    "    \n",
    "    #If row is not of size 11, the //tr data is not from our table \n",
    "    if len(T)!=11:\n",
    "        break\n",
    "    \n",
    "    #i is the index of our column\n",
    "    i=0\n",
    "    \n",
    "    #Iterate through each element of the row\n",
    "    for t in T.iterchildren():\n",
    "        data=t.text_content()\n",
    "        data=data.strip()\n",
    "        #Append the data to the empty list of the i'th column\n",
    "        col1[i][1].append(data)\n",
    "        #Increment i for the next column\n",
    "        i+=1\n",
    "        \n",
    "for j in range(1,len(tr2_elements_final)):\n",
    "    #T is our j'th row\n",
    "    T=tr2_elements_final[j]\n",
    "    \n",
    "    #If row is not of size 11, the //tr data is not from our table \n",
    "    if len(T)!=11:\n",
    "        break\n",
    "    \n",
    "    #i is the index of our column\n",
    "    i=0\n",
    "    \n",
    "    #Iterate through each element of the row\n",
    "    for t in T.iterchildren():\n",
    "        data=t.text_content()\n",
    "        data=data.strip()\n",
    "        #Append the data to the empty list of the i'th column\n",
    "        col2[i][1].append(data)\n",
    "        #Increment i for the next column\n",
    "        i+=1"
   ]
  },
  {
   "cell_type": "code",
   "execution_count": 5,
   "metadata": {},
   "outputs": [],
   "source": [
    "Dict1={title:column for (title,column) in col1}\n",
    "Dict2={title:column for (title,column) in col2}\n",
    "\n",
    "# there's a key with all blank entries so we get rid of it\n",
    "del Dict1['']\n",
    "del Dict2['']\n",
    "\n",
    "# create DataFrames\n",
    "df1=pd.DataFrame(Dict1)\n",
    "df2=pd.DataFrame(Dict2)\n",
    "\n",
    "# changing header name\n",
    "df1.rename(columns={'Mark':'100m'}, inplace=True)\n",
    "df2.rename(columns={'Mark':'200m'}, inplace=True)"
   ]
  },
  {
   "cell_type": "markdown",
   "metadata": {},
   "source": [
    "### Creating combined 100-200m list ###"
   ]
  },
  {
   "cell_type": "code",
   "execution_count": 6,
   "metadata": {},
   "outputs": [],
   "source": [
    "df3=pd.merge(df1[['Competitor','100m']], df2[['Competitor','200m']], on='Competitor')"
   ]
  },
  {
   "cell_type": "code",
   "execution_count": 84,
   "metadata": {
    "scrolled": false
   },
   "outputs": [
    {
     "data": {
      "text/plain": [
       "Text(0,0.5,u'200m (s)')"
      ]
     },
     "execution_count": 84,
     "metadata": {},
     "output_type": "execute_result"
    },
    {
     "data": {
      "image/png": "[encoded data removed]",
      "text/plain": [
       "<matplotlib.figure.Figure at 0x7fc489f71990>"
      ]
     },
     "metadata": {},
     "output_type": "display_data"
    }
   ],
   "source": [
    "df3 = df3.astype({'100m': float, '200m': float})\n",
    "ax = df3.plot(x='100m', y='200m', style='.', ms=3, legend=False)\n",
    "ax.set_xlabel(\"100m (s)\")\n",
    "ax.set_ylabel(\"200m (s)\")"
   ]
  },
  {
   "cell_type": "markdown",
   "metadata": {},
   "source": [
    "### Performing linear regression using Statsmodels and adapting code from https://towardsdatascience.com/simple-and-multiple-linear-regression-in-python-c928425168f9 ###"
   ]
  },
  {
   "cell_type": "code",
   "execution_count": 8,
   "metadata": {},
   "outputs": [
    {
     "data": {
      "text/html": [
       "<table class=\"simpletable\">\n",
       "<caption>OLS Regression Results</caption>\n",
       "<tr>\n",
       "  <th>Dep. Variable:</th>          <td>200m</td>       <th>  R-squared:         </th> <td>   0.232</td>\n",
       "</tr>\n",
       "<tr>\n",
       "  <th>Model:</th>                   <td>OLS</td>       <th>  Adj. R-squared:    </th> <td>   0.231</td>\n",
       "</tr>\n",
       "<tr>\n",
       "  <th>Method:</th>             <td>Least Squares</td>  <th>  F-statistic:       </th> <td>   155.6</td>\n",
       "</tr>\n",
       "<tr>\n",
       "  <th>Date:</th>             <td>Thu, 27 Jun 2019</td> <th>  Prob (F-statistic):</th> <td>2.16e-31</td>\n",
       "</tr>\n",
       "<tr>\n",
       "  <th>Time:</th>                 <td>16:32:13</td>     <th>  Log-Likelihood:    </th> <td>  96.442</td>\n",
       "</tr>\n",
       "<tr>\n",
       "  <th>No. Observations:</th>      <td>   517</td>      <th>  AIC:               </th> <td>  -188.9</td>\n",
       "</tr>\n",
       "<tr>\n",
       "  <th>Df Residuals:</th>          <td>   515</td>      <th>  BIC:               </th> <td>  -180.4</td>\n",
       "</tr>\n",
       "<tr>\n",
       "  <th>Df Model:</th>              <td>     1</td>      <th>                     </th>     <td> </td>   \n",
       "</tr>\n",
       "<tr>\n",
       "  <th>Covariance Type:</th>      <td>nonrobust</td>    <th>                     </th>     <td> </td>   \n",
       "</tr>\n",
       "</table>\n",
       "<table class=\"simpletable\">\n",
       "<tr>\n",
       "    <td></td>       <th>coef</th>     <th>std err</th>      <th>t</th>      <th>P>|t|</th>  <th>[0.025</th>    <th>0.975]</th>  \n",
       "</tr>\n",
       "<tr>\n",
       "  <th>const</th> <td>    9.8169</td> <td>    0.838</td> <td>   11.721</td> <td> 0.000</td> <td>    8.171</td> <td>   11.462</td>\n",
       "</tr>\n",
       "<tr>\n",
       "  <th>100m</th>  <td>    1.0368</td> <td>    0.083</td> <td>   12.474</td> <td> 0.000</td> <td>    0.873</td> <td>    1.200</td>\n",
       "</tr>\n",
       "</table>\n",
       "<table class=\"simpletable\">\n",
       "<tr>\n",
       "  <th>Omnibus:</th>       <td>56.782</td> <th>  Durbin-Watson:     </th> <td>   1.943</td>\n",
       "</tr>\n",
       "<tr>\n",
       "  <th>Prob(Omnibus):</th> <td> 0.000</td> <th>  Jarque-Bera (JB):  </th> <td>  80.776</td>\n",
       "</tr>\n",
       "<tr>\n",
       "  <th>Skew:</th>          <td>-0.776</td> <th>  Prob(JB):          </th> <td>2.88e-18</td>\n",
       "</tr>\n",
       "<tr>\n",
       "  <th>Kurtosis:</th>      <td> 4.159</td> <th>  Cond. No.          </th> <td>    963.</td>\n",
       "</tr>\n",
       "</table>"
      ],
      "text/plain": [
       "<class 'statsmodels.iolib.summary.Summary'>\n",
       "\"\"\"\n",
       "                            OLS Regression Results                            \n",
       "==============================================================================\n",
       "Dep. Variable:                   200m   R-squared:                       0.232\n",
       "Model:                            OLS   Adj. R-squared:                  0.231\n",
       "Method:                 Least Squares   F-statistic:                     155.6\n",
       "Date:                Thu, 27 Jun 2019   Prob (F-statistic):           2.16e-31\n",
       "Time:                        16:32:13   Log-Likelihood:                 96.442\n",
       "No. Observations:                 517   AIC:                            -188.9\n",
       "Df Residuals:                     515   BIC:                            -180.4\n",
       "Df Model:                           1                                         \n",
       "Covariance Type:            nonrobust                                         \n",
       "==============================================================================\n",
       "                 coef    std err          t      P>|t|      [0.025      0.975]\n",
       "------------------------------------------------------------------------------\n",
       "const          9.8169      0.838     11.721      0.000       8.171      11.462\n",
       "100m           1.0368      0.083     12.474      0.000       0.873       1.200\n",
       "==============================================================================\n",
       "Omnibus:                       56.782   Durbin-Watson:                   1.943\n",
       "Prob(Omnibus):                  0.000   Jarque-Bera (JB):               80.776\n",
       "Skew:                          -0.776   Prob(JB):                     2.88e-18\n",
       "Kurtosis:                       4.159   Cond. No.                         963.\n",
       "==============================================================================\n",
       "\n",
       "Warnings:\n",
       "[1] Standard Errors assume that the covariance matrix of the errors is correctly specified.\n",
       "\"\"\""
      ]
     },
     "execution_count": 8,
     "metadata": {},
     "output_type": "execute_result"
    }
   ],
   "source": [
    "Xval = df3['100m']\n",
    "Yval = df3['200m']\n",
    "Xvalconst = sm.add_constant(Xval)\n",
    "\n",
    "modelsm = sm.OLS(Yval, Xvalconst).fit()\n",
    "\n",
    "Ypredictionssm = modelsm.predict(Xvalconst)\n",
    "modelsm.summary()"
   ]
  },
  {
   "cell_type": "code",
   "execution_count": 21,
   "metadata": {},
   "outputs": [
    {
     "data": {
      "text/plain": [
       "array([20.08078386])"
      ]
     },
     "execution_count": 21,
     "metadata": {},
     "output_type": "execute_result"
    }
   ],
   "source": [
    "# test model for a random input\n",
    "modelsm.predict([[1.0,9.90]])"
   ]
  },
  {
   "cell_type": "markdown",
   "metadata": {},
   "source": [
    "### Performing linear regression using scikit-learn LinearRegression and adapting code from https://towardsdatascience.com/simple-and-multiple-linear-regression-in-python-c928425168f9 ###"
   ]
  },
  {
   "cell_type": "code",
   "execution_count": 40,
   "metadata": {},
   "outputs": [],
   "source": [
    "lm = linear_model.LinearRegression()\n",
    "lm.fit(Xval.values.reshape(-1,1),Yval)\n",
    "\n",
    "Ypredictionslm = lm.predict(Xval.values.reshape(-1,1))"
   ]
  },
  {
   "cell_type": "code",
   "execution_count": 42,
   "metadata": {},
   "outputs": [
    {
     "name": "stdout",
     "output_type": "stream",
     "text": [
      "R2_lm =  0.23203695405698388\n",
      "coeff_lm =  [1.03676031]\n",
      "intercept_lm =  9.816856772867649\n"
     ]
    },
    {
     "data": {
      "text/plain": [
       "array([20.08078386])"
      ]
     },
     "execution_count": 42,
     "metadata": {},
     "output_type": "execute_result"
    }
   ],
   "source": [
    "# get R-squared\n",
    "R2lm=lm.score(Xval.values.reshape(-1,1),Yval)\n",
    "print 'R2_lm = ',R2lm\n",
    "\n",
    "# get slope\n",
    "coeflm=lm.coef_\n",
    "print 'coeff_lm = ',coeflm\n",
    "\n",
    "# get intercept\n",
    "constlm=lm.intercept_\n",
    "print 'intercept_lm = ',constlm\n",
    "\n",
    "# test model for a random input\n",
    "lm.predict([[9.90]])"
   ]
  },
  {
   "cell_type": "markdown",
   "metadata": {},
   "source": [
    "### Performing linear regression using scikit-learn SGDRegressor (Stochastic Gradient Descent) ### "
   ]
  },
  {
   "cell_type": "code",
   "execution_count": 34,
   "metadata": {},
   "outputs": [],
   "source": [
    "clf = linear_model.SGDRegressor(max_iter=1000, tol=1e-3)\n",
    "clf.fit(Xval.values.reshape(-1,1), Yval)\n",
    "\n",
    "Ypredictionsclf = clf.predict(Xval.values.reshape(-1,1))"
   ]
  },
  {
   "cell_type": "code",
   "execution_count": 71,
   "metadata": {},
   "outputs": [
    {
     "name": "stdout",
     "output_type": "stream",
     "text": [
      "R2_clf =  -0.04230477423653189\n",
      "coeff_clf =  [1.98468777]\n",
      "intercept_clf =  [0.20009361]\n"
     ]
    },
    {
     "data": {
      "text/plain": [
       "array([19.8485025])"
      ]
     },
     "execution_count": 71,
     "metadata": {},
     "output_type": "execute_result"
    }
   ],
   "source": [
    "# get R-squared\n",
    "R2clf=clf.score(Xval.values.reshape(-1,1),Yval)\n",
    "print 'R2_clf = ',R2clf\n",
    "\n",
    "# get slope\n",
    "coefclf=clf.coef_\n",
    "print 'coeff_clf = ',coefclf\n",
    "\n",
    "# get intercept\n",
    "constclf=clf.intercept_\n",
    "print 'intercept_clf = ',constclf\n",
    "\n",
    "# test model for a random input\n",
    "clf.predict([[9.90]])"
   ]
  },
  {
   "cell_type": "markdown",
   "metadata": {},
   "source": [
    "To do list:  \n",
    "- Split training and test\n",
    "- Compare Linear and SGD by creating histograms of 100*(Yval-Ypred)/Yval\n",
    "- Readme file"
   ]
  },
  {
   "cell_type": "code",
   "execution_count": null,
   "metadata": {},
   "outputs": [],
   "source": []
  },
  {
   "cell_type": "code",
   "execution_count": null,
   "metadata": {},
   "outputs": [],
   "source": []
  },
  {
   "cell_type": "code",
   "execution_count": null,
   "metadata": {},
   "outputs": [],
   "source": []
  },
  {
   "cell_type": "code",
   "execution_count": null,
   "metadata": {},
   "outputs": [],
   "source": []
  }
 ],
 "metadata": {
  "kernelspec": {
   "display_name": "Python 2",
   "language": "python",
   "name": "python2"
  },
  "language_info": {
   "codemirror_mode": {
    "name": "ipython",
    "version": 2
   },
   "file_extension": ".py",
   "mimetype": "text/x-python",
   "name": "python",
   "nbconvert_exporter": "python",
   "pygments_lexer": "ipython2",
   "version": "2.7.14"
  }
 },
 "nbformat": 4,
 "nbformat_minor": 2
}
