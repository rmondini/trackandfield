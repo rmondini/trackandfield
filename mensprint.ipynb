{
 "cells": [
  {
   "cell_type": "markdown",
   "metadata": {},
   "source": [
    "# Analyze 100m and 200m all-time men lists to study whether a linear relation between 100m and 200m PBs can be established # "
   ]
  },
  {
   "cell_type": "code",
   "execution_count": null,
   "metadata": {},
   "outputs": [],
   "source": [
    "import requests\n",
    "import lxml.html as lh\n",
    "import numpy as np\n",
    "import pandas as pd\n",
    "import matplotlib.pyplot as plt\n",
    "\n",
    "import statsmodels.api as sm\n",
    "from sklearn import linear_model\n",
    "from sklearn.model_selection import train_test_split"
   ]
  },
  {
   "cell_type": "markdown",
   "metadata": {},
   "source": [
    "### Scraping the data from the IAAF website to build Pandas DataFrames. This part of the code has been adapted from: https://towardsdatascience.com/web-scraping-html-tables-with-python-c9baba21059 ###"
   ]
  },
  {
   "cell_type": "code",
   "execution_count": 156,
   "metadata": {},
   "outputs": [],
   "source": [
    "# get url and create a page\n",
    "url1='http://www.iaaf.org/records/all-time-toplists/sprints/100-metres/outdoor/men/senior?page=1'\n",
    "url2='http://www.iaaf.org/records/all-time-toplists/sprints/200-metres/outdoor/men/senior?page=1'\n",
    "# need this header to open the page from my laptop\n",
    "headers = {'User-Agent': 'Mozilla/5.0 (X11; Ubuntu; Linux x86_64; rv:64.0) Gecko/20100101 Firefox/64.0'}\n",
    "page1 = requests.get(url1, headers=headers)\n",
    "page2 = requests.get(url2, headers=headers)\n",
    "\n",
    "# store the contents of the website\n",
    "doc1 = lh.fromstring(page1.content)\n",
    "doc2 = lh.fromstring(page2.content)\n",
    "\n",
    "# parse data that are stored between <tr>..</tr> of HTML\n",
    "tr1_elements = doc1.xpath('//tr')\n",
    "tr2_elements = doc2.xpath('//tr')\n",
    "\n",
    "# in our case the table starts at position 18 (with the header)\n",
    "tr1_elements = tr1_elements[18:]\n",
    "tr2_elements = tr2_elements[18:]\n",
    "\n",
    "# create final lists\n",
    "tr1_elements_final=tr1_elements[:]\n",
    "tr2_elements_final=tr2_elements[:]\n",
    "\n",
    "# number of pages of results we want to include from the IAAF website\n",
    "npage=15\n",
    "\n",
    "ip=2\n",
    "while ip<=npage:\n",
    "    url1='http://www.iaaf.org/records/all-time-toplists/sprints/100-metres/outdoor/men/senior?page=' + str(ip)\n",
    "    url2='http://www.iaaf.org/records/all-time-toplists/sprints/200-metres/outdoor/men/senior?page=' + str(ip)\n",
    "    page1 = requests.get(url1, headers=headers)\n",
    "    page2 = requests.get(url2, headers=headers)\n",
    "    doc1 = lh.fromstring(page1.content)\n",
    "    doc2 = lh.fromstring(page2.content)\n",
    "    tr1_elements_tmp = doc1.xpath('//tr')\n",
    "    tr2_elements_tmp = doc2.xpath('//tr')\n",
    "    \n",
    "    # without including the header again\n",
    "    tr1_elements_final += tr1_elements_tmp[19:]\n",
    "    tr2_elements_final += tr2_elements_tmp[19:]\n",
    "    ip+=1"
   ]
  },
  {
   "cell_type": "code",
   "execution_count": 123,
   "metadata": {},
   "outputs": [],
   "source": [
    "# create empty list\n",
    "col1=[]\n",
    "col2=[]\n",
    "\n",
    "#For each row, store each first element (header) and an empty list\n",
    "i=0\n",
    "for t in tr1_elements_final[0]:\n",
    "    i+=1\n",
    "    name=t.text_content()\n",
    "    name=name.strip()\n",
    "    #print '%d:\"%s\"'%(i,name)\n",
    "    col1.append((name,[]))\n",
    "\n",
    "i=0\n",
    "for t in tr2_elements_final[0]:\n",
    "    i+=1\n",
    "    name=t.text_content()\n",
    "    name=name.strip()\n",
    "    #print '%d:\"%s\"'%(i,name)\n",
    "    col2.append((name,[]))"
   ]
  },
  {
   "cell_type": "code",
   "execution_count": 124,
   "metadata": {},
   "outputs": [],
   "source": [
    "#Since our first row is the header, data is stored on the second row onwards\n",
    "for j in range(1,len(tr1_elements_final)):\n",
    "    #T is our j'th row\n",
    "    T=tr1_elements_final[j]\n",
    "    \n",
    "    #If row is not of size 11, the //tr data is not from our table \n",
    "    if len(T)!=11:\n",
    "        break\n",
    "    \n",
    "    #i is the index of our column\n",
    "    i=0\n",
    "    \n",
    "    #Iterate through each element of the row\n",
    "    for t in T.iterchildren():\n",
    "        data=t.text_content()\n",
    "        data=data.strip()\n",
    "        #Append the data to the empty list of the i'th column\n",
    "        col1[i][1].append(data)\n",
    "        #Increment i for the next column\n",
    "        i+=1\n",
    "        \n",
    "for j in range(1,len(tr2_elements_final)):\n",
    "    #T is our j'th row\n",
    "    T=tr2_elements_final[j]\n",
    "    \n",
    "    #If row is not of size 11, the //tr data is not from our table \n",
    "    if len(T)!=11:\n",
    "        break\n",
    "    \n",
    "    #i is the index of our column\n",
    "    i=0\n",
    "    \n",
    "    #Iterate through each element of the row\n",
    "    for t in T.iterchildren():\n",
    "        data=t.text_content()\n",
    "        data=data.strip()\n",
    "        #Append the data to the empty list of the i'th column\n",
    "        col2[i][1].append(data)\n",
    "        #Increment i for the next column\n",
    "        i+=1"
   ]
  },
  {
   "cell_type": "code",
   "execution_count": 125,
   "metadata": {},
   "outputs": [],
   "source": [
    "Dict1={title:column for (title,column) in col1}\n",
    "Dict2={title:column for (title,column) in col2}\n",
    "\n",
    "# there's a key with all blank entries so we get rid of it\n",
    "del Dict1['']\n",
    "del Dict2['']\n",
    "\n",
    "# create DataFrames\n",
    "df1=pd.DataFrame(Dict1)\n",
    "df2=pd.DataFrame(Dict2)\n",
    "\n",
    "# changing header name\n",
    "df1.rename(columns={'Mark':'100m'}, inplace=True)\n",
    "df2.rename(columns={'Mark':'200m'}, inplace=True)"
   ]
  },
  {
   "cell_type": "markdown",
   "metadata": {},
   "source": [
    "### Creating combined 100-200m list and preparing for regression ###"
   ]
  },
  {
   "cell_type": "code",
   "execution_count": 126,
   "metadata": {},
   "outputs": [],
   "source": [
    "df3=pd.merge(df1[['Competitor','100m']], df2[['Competitor','200m']], on='Competitor')"
   ]
  },
  {
   "cell_type": "code",
   "execution_count": 127,
   "metadata": {
    "scrolled": false
   },
   "outputs": [
    {
     "data": {
      "text/plain": [
       "Text(0,0.5,u'200m (s)')"
      ]
     },
     "execution_count": 127,
     "metadata": {},
     "output_type": "execute_result"
    },
    {
     "data": {
      "image/png": "[encoded data removed]",
      "text/plain": [
       "<matplotlib.figure.Figure at 0x7fc4897bd590>"
      ]
     },
     "metadata": {},
     "output_type": "display_data"
    }
   ],
   "source": [
    "# convert to float\n",
    "df3 = df3.astype({'100m': float, '200m': float})\n",
    "\n",
    "# create X and Y arrays for regression\n",
    "Xval = df3['100m']\n",
    "Yval = df3['200m']\n",
    "\n",
    "# split X into random train and test sets\n",
    "X_train, X_test, y_train, y_test = train_test_split(Xval,Yval,test_size=0.3)\n",
    "\n",
    "# scatter plot\n",
    "ax = df3.plot(x='100m', y='200m', style='.', ms=3, legend=False)\n",
    "ax.set_xlabel(\"100m (s)\")\n",
    "ax.set_ylabel(\"200m (s)\")"
   ]
  },
  {
   "cell_type": "markdown",
   "metadata": {},
   "source": [
    "### Performing linear regression using Statsmodels and adapting code from https://towardsdatascience.com/simple-and-multiple-linear-regression-in-python-c928425168f9 ###"
   ]
  },
  {
   "cell_type": "code",
   "execution_count": 195,
   "metadata": {},
   "outputs": [],
   "source": [
    "#Xvalconst = sm.add_constant(Xval)\n",
    "\n",
    "#modelsm = sm.OLS(Yval, Xvalconst).fit()\n",
    "\n",
    "#Ypredictionssm = modelsm.predict(Xvalconst)\n",
    "#modelsm.summary()"
   ]
  },
  {
   "cell_type": "code",
   "execution_count": 194,
   "metadata": {},
   "outputs": [],
   "source": [
    "#modelsm.predict([[1.0,9.90]])"
   ]
  },
  {
   "cell_type": "markdown",
   "metadata": {},
   "source": [
    "### Performing linear regression using scikit-learn LinearRegression and adapting code from https://towardsdatascience.com/simple-and-multiple-linear-regression-in-python-c928425168f9 ###"
   ]
  },
  {
   "cell_type": "code",
   "execution_count": 139,
   "metadata": {},
   "outputs": [],
   "source": [
    "# LinearRegression\n",
    "lm = linear_model.LinearRegression()\n",
    "lm.fit(X_train.values.reshape(-1,1),y_train)\n",
    "\n",
    "# model predictions of test set\n",
    "Ypredictionslm = lm.predict(X_test.values.reshape(-1,1))"
   ]
  },
  {
   "cell_type": "code",
   "execution_count": 178,
   "metadata": {},
   "outputs": [
    {
     "name": "stdout",
     "output_type": "stream",
     "text": [
      "R2_lm =  0.24728785222780536\n",
      "coeff_lm =  [1.00422826]\n",
      "intercept_lm =  10.204044448754285\n"
     ]
    },
    {
     "data": {
      "text/plain": [
       "array([21.25055533])"
      ]
     },
     "execution_count": 178,
     "metadata": {},
     "output_type": "execute_result"
    }
   ],
   "source": [
    "# get R-squared\n",
    "R2lm=lm.score(X_train.values.reshape(-1,1),y_train)\n",
    "print 'R2_lm = ',R2lm\n",
    "\n",
    "# get slope\n",
    "coeflm=lm.coef_\n",
    "print 'coeff_lm = ',coeflm\n",
    "\n",
    "# get intercept\n",
    "constlm=lm.intercept_\n",
    "print 'intercept_lm = ',constlm\n",
    "\n",
    "# test model for a random input\n",
    "lm.predict([[11.00]])"
   ]
  },
  {
   "cell_type": "markdown",
   "metadata": {},
   "source": [
    "### Performing linear regression using scikit-learn SGDRegressor (Stochastic Gradient Descent) ### "
   ]
  },
  {
   "cell_type": "code",
   "execution_count": 187,
   "metadata": {},
   "outputs": [],
   "source": [
    "# SGDRegressor\n",
    "clf = linear_model.SGDRegressor(max_iter=1000, tol=1e-3)\n",
    "clf.fit(X_train.values.reshape(-1,1),y_train)\n",
    "\n",
    "# model predictions of test set\n",
    "Ypredictionsclf = clf.predict(X_test.values.reshape(-1,1))"
   ]
  },
  {
   "cell_type": "code",
   "execution_count": 208,
   "metadata": {},
   "outputs": [
    {
     "name": "stdout",
     "output_type": "stream",
     "text": [
      "R2_clf =  -0.06891605825267977\n",
      "coeff_clf =  [1.98643299]\n",
      "intercept_clf =  [0.20192518]\n"
     ]
    },
    {
     "data": {
      "text/plain": [
       "array([22.05268807])"
      ]
     },
     "execution_count": 208,
     "metadata": {},
     "output_type": "execute_result"
    }
   ],
   "source": [
    "# get R-squared\n",
    "R2clf=clf.score(X_train.values.reshape(-1,1),y_train)\n",
    "print 'R2_clf = ',R2clf\n",
    "\n",
    "# get slope\n",
    "coefclf=clf.coef_\n",
    "print 'coeff_clf = ',coefclf\n",
    "\n",
    "# get intercept\n",
    "constclf=clf.intercept_\n",
    "print 'intercept_clf = ',constclf\n",
    "\n",
    "# test model for a random input\n",
    "clf.predict([[11.00]])"
   ]
  },
  {
   "cell_type": "markdown",
   "metadata": {},
   "source": [
    "### Comparison between LinearRegression and SGDRegressor ###"
   ]
  },
  {
   "cell_type": "code",
   "execution_count": 143,
   "metadata": {},
   "outputs": [],
   "source": [
    "# % difference between truth and predictions for test set for LinearRegressions\n",
    "lmdiff=100*(y_test-Ypredictionslm)/y_test\n",
    "\n",
    "# % difference between truth and predictions for test set for SGDRegressor\n",
    "clfdiff=100*(y_test-Ypredictionsclf)/y_test"
   ]
  },
  {
   "cell_type": "code",
   "execution_count": 204,
   "metadata": {},
   "outputs": [
    {
     "data": {
      "image/png": "[encoded data removed]",
      "text/plain": [
       "<matplotlib.figure.Figure at 0x7fc48895ff50>"
      ]
     },
     "metadata": {},
     "output_type": "display_data"
    }
   ],
   "source": [
    "plt.hist(clfdiff, bins=12, alpha=0.6, label='SGDR')\n",
    "plt.hist(lmdiff, bins=12, alpha=0.6, label='LR')\n",
    "plt.legend(loc='upper right')\n",
    "plt.title('LinearRegression (LR) vs SGDRegressor (SGDR)')\n",
    "plt.xlabel('%')\n",
    "plt.ylabel('#')\n",
    "plt.show()"
   ]
  },
  {
   "cell_type": "code",
   "execution_count": null,
   "metadata": {
    "scrolled": true
   },
   "outputs": [],
   "source": []
  },
  {
   "cell_type": "code",
   "execution_count": null,
   "metadata": {},
   "outputs": [],
   "source": []
  }
 ],
 "metadata": {
  "kernelspec": {
   "display_name": "Python 2",
   "language": "python",
   "name": "python2"
  },
  "language_info": {
   "codemirror_mode": {
    "name": "ipython",
    "version": 2
   },
   "file_extension": ".py",
   "mimetype": "text/x-python",
   "name": "python",
   "nbconvert_exporter": "python",
   "pygments_lexer": "ipython2",
   "version": "2.7.14"
  }
 },
 "nbformat": 4,
 "nbformat_minor": 2
}
