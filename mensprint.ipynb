{
 "cells": [
  {
   "cell_type": "markdown",
   "metadata": {},
   "source": [
    "# We analyze IAAF 100m and 200m all-time men and women lists to study whether a linear relation between 100m and 200m PBs can be established # "
   ]
  },
  {
   "cell_type": "code",
   "execution_count": 1,
   "metadata": {},
   "outputs": [
    {
     "name": "stderr",
     "output_type": "stream",
     "text": [
      "/home/roberto/anaconda2/lib/python2.7/site-packages/statsmodels/compat/pandas.py:56: FutureWarning: The pandas.core.datetools module is deprecated and will be removed in a future version. Please use the pandas.tseries module instead.\n",
      "  from pandas.core import datetools\n"
     ]
    }
   ],
   "source": [
    "import sys\n",
    "import requests\n",
    "import lxml.html as lh\n",
    "import numpy as np\n",
    "import pandas as pd\n",
    "import matplotlib.pyplot as plt\n",
    "\n",
    "import statsmodels.api as sm\n",
    "from sklearn import linear_model\n",
    "from sklearn.model_selection import train_test_split"
   ]
  },
  {
   "cell_type": "markdown",
   "metadata": {},
   "source": [
    "### Scraping the data from the IAAF website to build pandas DataFrames. This part of the code has been adapted from: https://towardsdatascience.com/web-scraping-html-tables-with-python-c9baba21059 ###"
   ]
  },
  {
   "cell_type": "code",
   "execution_count": 2,
   "metadata": {},
   "outputs": [],
   "source": [
    "# choose gender: men or women\n",
    "igender1 = 'men'\n",
    "\n",
    "if igender1=='women':\n",
    "    igender2 = 'men'\n",
    "elif igender1=='men':\n",
    "    igender2 = 'women'\n",
    "else:\n",
    "    sys.exit(\"I know that gender is non-binary but not for the IAAF. Stop.\")\n",
    "    \n",
    "# choose whether to include both genders (True) or not (False)\n",
    "inclboth = True\n",
    "\n",
    "# number of pages of results we want to include from the IAAF lists (for both genders)\n",
    "npage=15"
   ]
  },
  {
   "cell_type": "code",
   "execution_count": 3,
   "metadata": {},
   "outputs": [],
   "source": [
    "# need this header to open the page from my laptop\n",
    "headers = {'User-Agent': 'Mozilla/5.0 (X11; Ubuntu; Linux x86_64; rv:64.0) Gecko/20100101 Firefox/64.0'}\n",
    "\n",
    "# create empty final lists\n",
    "tr1_elements_final = []\n",
    "tr2_elements_final = []\n",
    "\n",
    "ip=1\n",
    "while ip<=npage:\n",
    "    \n",
    "    # get url and create a page\n",
    "    url1='http://www.iaaf.org/records/all-time-toplists/sprints/100-metres/outdoor/' + igender1 + '/senior?page=' + str(ip)\n",
    "    url2='http://www.iaaf.org/records/all-time-toplists/sprints/200-metres/outdoor/' + igender1 + '/senior?page=' + str(ip)\n",
    "    page1 = requests.get(url1, headers=headers)\n",
    "    page2 = requests.get(url2, headers=headers)\n",
    "    \n",
    "    # store the contents of the website\n",
    "    doc1 = lh.fromstring(page1.content)\n",
    "    doc2 = lh.fromstring(page2.content)\n",
    "    \n",
    "    # parse data that are stored between <tr>..</tr> of HTML\n",
    "    tr1_elements = doc1.xpath('//tr')\n",
    "    tr2_elements = doc2.xpath('//tr')\n",
    "    \n",
    "    if ip==1:\n",
    "        # in our case the table starts at position 18 (with the header)\n",
    "        tr1_elements_final += tr1_elements[18:]\n",
    "        tr2_elements_final += tr2_elements[18:]\n",
    "    else:\n",
    "        # without including the header again\n",
    "        tr1_elements_final += tr1_elements[19:]\n",
    "        tr2_elements_final += tr2_elements[19:]\n",
    "        \n",
    "    ip+=1\n",
    "    \n",
    "# including other gender's results\n",
    "if inclboth:\n",
    "    ip=1\n",
    "    while ip<=npage:\n",
    "        url1='http://www.iaaf.org/records/all-time-toplists/sprints/100-metres/outdoor/' + igender2 + '/senior?page=' + str(ip)\n",
    "        url2='http://www.iaaf.org/records/all-time-toplists/sprints/200-metres/outdoor/' + igender2 + '/senior?page=' + str(ip)\n",
    "        page1 = requests.get(url1, headers=headers)\n",
    "        page2 = requests.get(url2, headers=headers)\n",
    "        doc1 = lh.fromstring(page1.content)\n",
    "        doc2 = lh.fromstring(page2.content)\n",
    "        tr1_elements = doc1.xpath('//tr')\n",
    "        tr2_elements = doc2.xpath('//tr')\n",
    "    \n",
    "        # without including the header again\n",
    "        tr1_elements_final += tr1_elements[19:]\n",
    "        tr2_elements_final += tr2_elements[19:]\n",
    "        ip+=1"
   ]
  },
  {
   "cell_type": "code",
   "execution_count": 4,
   "metadata": {},
   "outputs": [],
   "source": [
    "# create empty list\n",
    "col1=[]\n",
    "col2=[]\n",
    "\n",
    "#For each row, store each first element (header) and an empty list\n",
    "i=0\n",
    "for t in tr1_elements_final[0]:\n",
    "    i+=1\n",
    "    name=t.text_content()\n",
    "    name=name.strip()\n",
    "    #print '%d:\"%s\"'%(i,name)\n",
    "    col1.append((name,[]))\n",
    "\n",
    "i=0\n",
    "for t in tr2_elements_final[0]:\n",
    "    i+=1\n",
    "    name=t.text_content()\n",
    "    name=name.strip()\n",
    "    #print '%d:\"%s\"'%(i,name)\n",
    "    col2.append((name,[]))"
   ]
  },
  {
   "cell_type": "code",
   "execution_count": 5,
   "metadata": {},
   "outputs": [],
   "source": [
    "#Since our first row is the header, data is stored on the second row onwards\n",
    "for j in range(1,len(tr1_elements_final)):\n",
    "    #T is our j'th row\n",
    "    T=tr1_elements_final[j]\n",
    "    \n",
    "    #If row is not of size 11, the //tr data is not from our table \n",
    "    if len(T)!=11:\n",
    "        break\n",
    "    \n",
    "    #i is the index of our column\n",
    "    i=0\n",
    "    \n",
    "    #Iterate through each element of the row\n",
    "    for t in T.iterchildren():\n",
    "        data=t.text_content()\n",
    "        data=data.strip()\n",
    "        #Append the data to the empty list of the i'th column\n",
    "        col1[i][1].append(data)\n",
    "        #Increment i for the next column\n",
    "        i+=1\n",
    "        \n",
    "for j in range(1,len(tr2_elements_final)):\n",
    "    #T is our j'th row\n",
    "    T=tr2_elements_final[j]\n",
    "    \n",
    "    #If row is not of size 11, the //tr data is not from our table \n",
    "    if len(T)!=11:\n",
    "        break\n",
    "    \n",
    "    #i is the index of our column\n",
    "    i=0\n",
    "    \n",
    "    #Iterate through each element of the row\n",
    "    for t in T.iterchildren():\n",
    "        data=t.text_content()\n",
    "        data=data.strip()\n",
    "        #Append the data to the empty list of the i'th column\n",
    "        col2[i][1].append(data)\n",
    "        #Increment i for the next column\n",
    "        i+=1"
   ]
  },
  {
   "cell_type": "code",
   "execution_count": 6,
   "metadata": {},
   "outputs": [],
   "source": [
    "Dict1={title:column for (title,column) in col1}\n",
    "Dict2={title:column for (title,column) in col2}\n",
    "\n",
    "# there's a key with all blank entries so we get rid of it\n",
    "del Dict1['']\n",
    "del Dict2['']\n",
    "\n",
    "# create DataFrames\n",
    "df1=pd.DataFrame(Dict1)\n",
    "df2=pd.DataFrame(Dict2)\n",
    "\n",
    "# changing header name\n",
    "df1.rename(columns={'Mark':'100m'}, inplace=True)\n",
    "df2.rename(columns={'Mark':'200m'}, inplace=True)"
   ]
  },
  {
   "cell_type": "markdown",
   "metadata": {},
   "source": [
    "### Creating combined 100-200m list and preparing for regression ###"
   ]
  },
  {
   "cell_type": "code",
   "execution_count": 7,
   "metadata": {},
   "outputs": [],
   "source": [
    "df3=pd.merge(df1[['Competitor','100m']], df2[['Competitor','200m']], on='Competitor')"
   ]
  },
  {
   "cell_type": "code",
   "execution_count": 8,
   "metadata": {
    "scrolled": false
   },
   "outputs": [
    {
     "data": {
      "text/plain": [
       "Text(0,0.5,u'200m (s)')"
      ]
     },
     "execution_count": 8,
     "metadata": {},
     "output_type": "execute_result"
    },
    {
     "data": {
      "image/png": "[encoded data removed]",
      "text/plain": [
       "<matplotlib.figure.Figure at 0x7fab5fc98450>"
      ]
     },
     "metadata": {},
     "output_type": "display_data"
    }
   ],
   "source": [
    "# convert to float\n",
    "df3 = df3.astype({'100m': float, '200m': float})\n",
    "\n",
    "# create X and Y arrays for regression\n",
    "Xval = df3['100m']\n",
    "Yval = df3['200m']\n",
    "\n",
    "# split X into random train and test sets\n",
    "X_train, X_test, y_train, y_test = train_test_split(Xval,Yval,test_size=0.3)\n",
    "\n",
    "# scatter plot\n",
    "ax = df3.plot(x='100m', y='200m', style='.', ms=3, legend=False)\n",
    "ax.set_xlabel(\"100m (s)\")\n",
    "ax.set_ylabel(\"200m (s)\")"
   ]
  },
  {
   "cell_type": "markdown",
   "metadata": {},
   "source": [
    "### Performing linear regression using Statsmodels and adapting code from https://towardsdatascience.com/simple-and-multiple-linear-regression-in-python-c928425168f9 ###"
   ]
  },
  {
   "cell_type": "code",
   "execution_count": 9,
   "metadata": {},
   "outputs": [],
   "source": [
    "#Xvalconst = sm.add_constant(Xval)\n",
    "\n",
    "#modelsm = sm.OLS(Yval, Xvalconst).fit()\n",
    "\n",
    "#Ypredictionssm = modelsm.predict(Xvalconst)\n",
    "#modelsm.summary()"
   ]
  },
  {
   "cell_type": "code",
   "execution_count": 10,
   "metadata": {},
   "outputs": [],
   "source": [
    "#modelsm.predict([[1.0,9.90]])"
   ]
  },
  {
   "cell_type": "markdown",
   "metadata": {},
   "source": [
    "### Performing linear regression using scikit-learn LinearRegression and adapting code from https://towardsdatascience.com/simple-and-multiple-linear-regression-in-python-c928425168f9 ###"
   ]
  },
  {
   "cell_type": "code",
   "execution_count": 11,
   "metadata": {},
   "outputs": [],
   "source": [
    "# LinearRegression\n",
    "lm = linear_model.LinearRegression()\n",
    "lm.fit(X_train.values.reshape(-1,1),y_train)\n",
    "\n",
    "# model predictions of test set\n",
    "Ypredictionslm = lm.predict(X_test.values.reshape(-1,1))"
   ]
  },
  {
   "cell_type": "code",
   "execution_count": 29,
   "metadata": {},
   "outputs": [
    {
     "name": "stdout",
     "output_type": "stream",
     "text": [
      "R2_lm =  0.9507942693903768\n",
      "coeff_lm =  [2.19043976]\n",
      "intercept_lm =  -1.771212409793499\n"
     ]
    },
    {
     "data": {
      "text/plain": [
       "array([20.1112808])"
      ]
     },
     "execution_count": 29,
     "metadata": {},
     "output_type": "execute_result"
    }
   ],
   "source": [
    "# get R-squared\n",
    "R2lm=lm.score(X_train.values.reshape(-1,1),y_train)\n",
    "print 'R2_lm = ',R2lm\n",
    "\n",
    "# get slope\n",
    "coeflm=lm.coef_\n",
    "print 'coeff_lm = ',coeflm\n",
    "\n",
    "# get intercept\n",
    "constlm=lm.intercept_\n",
    "print 'intercept_lm = ',constlm\n",
    "\n",
    "# test model for a random input\n",
    "lm.predict([[9.99]])"
   ]
  },
  {
   "cell_type": "markdown",
   "metadata": {},
   "source": [
    "### Performing linear regression using scikit-learn SGDRegressor (Stochastic Gradient Descent) ### "
   ]
  },
  {
   "cell_type": "code",
   "execution_count": 13,
   "metadata": {},
   "outputs": [],
   "source": [
    "# SGDRegressor\n",
    "clf = linear_model.SGDRegressor(max_iter=1000, tol=1e-3)\n",
    "clf.fit(X_train.values.reshape(-1,1),y_train)\n",
    "\n",
    "# model predictions of test set\n",
    "Ypredictionsclf = clf.predict(X_test.values.reshape(-1,1))"
   ]
  },
  {
   "cell_type": "code",
   "execution_count": 30,
   "metadata": {},
   "outputs": [
    {
     "name": "stdout",
     "output_type": "stream",
     "text": [
      "R2_clf =  0.9367188207207049\n",
      "coeff_clf =  [2.0202309]\n",
      "intercept_clf =  [0.1696259]\n"
     ]
    },
    {
     "data": {
      "text/plain": [
       "array([20.35173254])"
      ]
     },
     "execution_count": 30,
     "metadata": {},
     "output_type": "execute_result"
    }
   ],
   "source": [
    "# get R-squared\n",
    "R2clf=clf.score(X_train.values.reshape(-1,1),y_train)\n",
    "print 'R2_clf = ',R2clf\n",
    "\n",
    "# get slope\n",
    "coefclf=clf.coef_\n",
    "print 'coeff_clf = ',coefclf\n",
    "\n",
    "# get intercept\n",
    "constclf=clf.intercept_\n",
    "print 'intercept_clf = ',constclf\n",
    "\n",
    "# test model for a random input\n",
    "clf.predict([[9.99]])"
   ]
  },
  {
   "cell_type": "markdown",
   "metadata": {},
   "source": [
    "### Comparison between LinearRegression and SGDRegressor ###"
   ]
  },
  {
   "cell_type": "code",
   "execution_count": 15,
   "metadata": {},
   "outputs": [],
   "source": [
    "# % difference between truth and predictions for test set for LinearRegressions\n",
    "lmdiff=100*(y_test-Ypredictionslm)/y_test\n",
    "\n",
    "# % difference between truth and predictions for test set for SGDRegressor\n",
    "clfdiff=100*(y_test-Ypredictionsclf)/y_test"
   ]
  },
  {
   "cell_type": "code",
   "execution_count": 16,
   "metadata": {},
   "outputs": [
    {
     "data": {
      "image/png": "[encoded data removed]",
      "text/plain": [
       "<matplotlib.figure.Figure at 0x7fab1af9f510>"
      ]
     },
     "metadata": {},
     "output_type": "display_data"
    }
   ],
   "source": [
    "plt.hist(clfdiff, bins=12, alpha=0.6, label='SGDR')\n",
    "plt.hist(lmdiff, bins=12, alpha=0.6, label='LR')\n",
    "plt.legend(loc='upper right')\n",
    "plt.title('LinearRegression (LR) vs SGDRegressor (SGDR)')\n",
    "plt.xlabel('%')\n",
    "plt.ylabel('#')\n",
    "plt.show()"
   ]
  },
  {
   "cell_type": "code",
   "execution_count": null,
   "metadata": {
    "scrolled": true
   },
   "outputs": [],
   "source": []
  },
  {
   "cell_type": "code",
   "execution_count": null,
   "metadata": {},
   "outputs": [],
   "source": []
  }
 ],
 "metadata": {
  "kernelspec": {
   "display_name": "Python 2",
   "language": "python",
   "name": "python2"
  },
  "language_info": {
   "codemirror_mode": {
    "name": "ipython",
    "version": 2
   },
   "file_extension": ".py",
   "mimetype": "text/x-python",
   "name": "python",
   "nbconvert_exporter": "python",
   "pygments_lexer": "ipython2",
   "version": "2.7.14"
  }
 },
 "nbformat": 4,
 "nbformat_minor": 2
}
